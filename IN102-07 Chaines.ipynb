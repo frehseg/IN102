{
 "cells": [
  {
   "cell_type": "markdown",
   "metadata": {
    "slideshow": {
     "slide_type": "slide"
    },
    "toc": true
   },
   "source": [
    "<h1>Sommaire<span class=\"tocSkip\"></span></h1>\n",
    "<div class=\"toc\"><ul class=\"toc-item\"><li><span><a href=\"#Chaînes-de-caractères\" data-toc-modified-id=\"Chaînes-de-caractères-1\"><span class=\"toc-item-num\">1&nbsp;&nbsp;</span>Chaînes de caractères</a></span><ul class=\"toc-item\"><li><span><a href=\"#Créer-une-chaîne\" data-toc-modified-id=\"Créer-une-chaîne-1.1\"><span class=\"toc-item-num\">1.1&nbsp;&nbsp;</span>Créer une chaîne</a></span></li><li><span><a href=\"#Afficher-une-chaîne\" data-toc-modified-id=\"Afficher-une-chaîne-1.2\"><span class=\"toc-item-num\">1.2&nbsp;&nbsp;</span>Afficher une chaîne</a></span></li></ul></li></ul></div>"
   ]
  },
  {
   "cell_type": "markdown",
   "metadata": {},
   "source": [
    "**Attention:** Pour activer le langage C, executer le code suivant avec Shift+Entrée où avec le bouton \"Run\"."
   ]
  },
  {
   "cell_type": "code",
   "execution_count": null,
   "metadata": {},
   "outputs": [],
   "source": [
    "!pip install git+git://github.com/frehseg/gcc4jupyter\n",
    "%load_ext gcc_plugin"
   ]
  },
  {
   "cell_type": "markdown",
   "metadata": {
    "raw_mimetype": "text/markdown"
   },
   "source": [
    "<script>\n",
    "    console.log(\"Hello. You'll see this printed in your browser's DevTools / Console. Feel free to delete this line.\");\n",
    "    document.querySelector('head').innerHTML += '<style>.slides { zoom: 1.0 !important; }</style>';\n",
    "</script>"
   ]
  },
  {
   "cell_type": "markdown",
   "metadata": {
    "slideshow": {
     "slide_type": "slide"
    }
   },
   "source": [
    "# Chaînes de caractères\n",
    "\n",
    "caractère : entier de 0 à 255\n",
    "\n",
    "chaque numéro correspond à une lettre:\n",
    "- A = 65, B = 66, ..., Z = 90\n",
    "- a = 97, b = 98, ..., z = 122 \n",
    "- 0 = 48, 1 = 49, ..., 9 = 57\n",
    "\n",
    "chaîne : suite de caractères __terminé par le numéro 0__ <br> (pas besoin de stocker la longueur)\n",
    "\n",
    "- \"ENSTA\" = 69,78,83,84,65,__0__\n",
    "- \"IN120\" = 73,78,49,50,48,__0__\n"
   ]
  },
  {
   "cell_type": "markdown",
   "metadata": {
    "slideshow": {
     "slide_type": "slide"
    }
   },
   "source": [
    "## Créer une chaîne\n",
    "\n",
    "chaîne modifiable avec `[]`:\n",
    "\n",
    "``char ma_chaine[] = \"ENSTA\";``\n",
    "\n",
    "chaîne __non modifiable__ avec `*`:\n",
    "\n",
    "``char* ma_chaine = \"ENSTA\";``\n",
    "\n",
    "- `[]`: tableau (voir cours 4)\n",
    "- chaînes non modifiables sont stockés dans mémoire partagé entre plusieurs instances du même programme\n",
    "- dans les deux cas, `ma_chaine` est un pointeur `char*` vers `E`"
   ]
  },
  {
   "cell_type": "markdown",
   "metadata": {
    "slideshow": {
     "slide_type": "slide"
    }
   },
   "source": [
    "## Afficher une chaîne"
   ]
  },
  {
   "cell_type": "code",
   "execution_count": null,
   "metadata": {
    "slideshow": {
     "slide_type": "fragment"
    }
   },
   "outputs": [],
   "source": [
    "#include <stdio.h>\n",
    "int main() {\n",
    "   char ma_chaine[] = \"IN102\";\n",
    "   printf(\"%s\\n\", ma_chaine );\n",
    "}"
   ]
  },
  {
   "cell_type": "code",
   "execution_count": null,
   "metadata": {},
   "outputs": [],
   "source": []
  }
 ],
 "metadata": {
  "celltoolbar": "Raw Cell Format",
  "kernelspec": {
   "display_name": "Python 3",
   "language": "python",
   "name": "python3"
  },
  "language_info": {
   "codemirror_mode": {
    "name": "ipython",
    "version": 3
   },
   "file_extension": ".py",
   "mimetype": "text/x-python",
   "name": "python",
   "nbconvert_exporter": "python",
   "pygments_lexer": "ipython3",
   "version": "3.7.3"
  },
  "rise": {
   "enable_chalkboard": true,
   "theme": "simple",
   "transition": "none"
  },
  "toc": {
   "base_numbering": 1,
   "nav_menu": {},
   "number_sections": true,
   "sideBar": true,
   "skip_h1_title": false,
   "title_cell": "Sommaire",
   "title_sidebar": "Sommaire",
   "toc_cell": true,
   "toc_position": {
    "height": "calc(100% - 180px)",
    "left": "10px",
    "top": "150px",
    "width": "261px"
   },
   "toc_section_display": true,
   "toc_window_display": false
  }
 },
 "nbformat": 4,
 "nbformat_minor": 2
}
