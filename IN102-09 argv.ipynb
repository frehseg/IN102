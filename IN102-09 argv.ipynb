{
 "cells": [
  {
   "cell_type": "markdown",
   "metadata": {
    "slideshow": {
     "slide_type": "slide"
    },
    "toc": true
   },
   "source": [
    "<h1>Sommaire<span class=\"tocSkip\"></span></h1>\n",
    "<div class=\"toc\"><ul class=\"toc-item\"><li><span><a href=\"#Passage-d'arguments-par-la-ligne-de-commande\" data-toc-modified-id=\"Passage-d'arguments-par-la-ligne-de-commande-1\"><span class=\"toc-item-num\">1&nbsp;&nbsp;</span>Passage d'arguments par la ligne de commande</a></span><ul class=\"toc-item\"><li><span><a href=\"#Main-avec-argv-et-argc\" data-toc-modified-id=\"Main-avec-argv-et-argc-1.1\"><span class=\"toc-item-num\">1.1&nbsp;&nbsp;</span>Main avec argv et argc</a></span></li><li><span><a href=\"#Le-shell-dans-un-Jupyter-Notebook\" data-toc-modified-id=\"Le-shell-dans-un-Jupyter-Notebook-1.2\"><span class=\"toc-item-num\">1.2&nbsp;&nbsp;</span>Le shell dans un Jupyter Notebook</a></span></li><li><span><a href=\"#Exemple:-Afficher-les-arguments\" data-toc-modified-id=\"Exemple:-Afficher-les-arguments-1.3\"><span class=\"toc-item-num\">1.3&nbsp;&nbsp;</span>Exemple: Afficher les arguments</a></span></li><li><span><a href=\"#Passer-des-nombres-en-argument\" data-toc-modified-id=\"Passer-des-nombres-en-argument-1.4\"><span class=\"toc-item-num\">1.4&nbsp;&nbsp;</span>Passer des nombres en argument</a></span></li><li><span><a href=\"#Exercice:-Quotient-de-deux-flottants\" data-toc-modified-id=\"Exercice:-Quotient-de-deux-flottants-1.5\"><span class=\"toc-item-num\">1.5&nbsp;&nbsp;</span>Exercice: Quotient de deux flottants</a></span></li></ul></li></ul></div>"
   ]
  },
  {
   "cell_type": "markdown",
   "metadata": {},
   "source": [
    "**Attention:** Pour activer le langage C, executer le code suivant avec Shift+Entrée où avec le bouton \"Run\"."
   ]
  },
  {
   "cell_type": "code",
   "execution_count": 2,
   "metadata": {},
   "outputs": [
    {
     "name": "stdout",
     "output_type": "stream",
     "text": [
      "Collecting git+git://github.com/frehseg/gcc4jupyter\n",
      "  Cloning git://github.com/frehseg/gcc4jupyter to /tmp/pip-req-build-q812wzsk\n",
      "  Running command git clone -q git://github.com/frehseg/gcc4jupyter /tmp/pip-req-build-q812wzsk\n",
      "Requirement already satisfied (use --upgrade to upgrade): GCCPlugin==0.0.6 from git+git://github.com/frehseg/gcc4jupyter in /opt/conda/lib/python3.7/site-packages\n",
      "Building wheels for collected packages: GCCPlugin\n",
      "  Building wheel for GCCPlugin (setup.py) ... \u001b[?25ldone\n",
      "\u001b[?25h  Created wheel for GCCPlugin: filename=GCCPlugin-0.0.6-cp37-none-any.whl size=2931 sha256=7a6ff6d686b9e07ec0ca7419a796a1639760ffd0384351d987d22294688c0071\n",
      "  Stored in directory: /tmp/pip-ephem-wheel-cache-t3e123s9/wheels/a6/ff/b4/023d42d3ec7c36b10e15db2a808aae8b2475e19fa6e370f85c\n",
      "Successfully built GCCPlugin\n"
     ]
    }
   ],
   "source": [
    "!pip install git+git://github.com/frehseg/gcc4jupyter\n",
    "%load_ext gcc_plugin"
   ]
  },
  {
   "cell_type": "markdown",
   "metadata": {
    "raw_mimetype": "text/markdown"
   },
   "source": [
    "<script>\n",
    "    console.log(\"Hello. You'll see this printed in your browser's DevTools / Console. Feel free to delete this line.\");\n",
    "    document.querySelector('head').innerHTML += '<style>.slides { zoom: 1.0 !important; }</style>';\n",
    "</script>"
   ]
  },
  {
   "cell_type": "markdown",
   "metadata": {},
   "source": [
    "# Passage d'arguments par la ligne de commande\n",
    "\n",
    "Vous avez déjà vu comment on lance votre programme dans un terminal en utilisant la ligne de commande:\n",
    "```\n",
    "> ./monprogramme\n",
    "```\n",
    "Dans cette leçon, on regardera comment passer des arguments par la ligne de commande.\n",
    "Lorsqu'on lance on programme dans un terminal, le shell (gestionnaire du terminal) identifie les arguments passés selon des règles fixes:\n",
    "```\n",
    "> ./monprogramme argument1 argument2 argument3\n",
    "```\n",
    "\n",
    "Notemment, les arguments sont séparés par des espaces. Pour donner un argument qui comporte des espaces, on peut le mettre entre guillemets doubles (les guillemets seront enlevés par le shell):\n",
    "\n",
    "```\n",
    "> ./monprogramme \"un long argument1\" argument2\n",
    "```\n",
    "\n"
   ]
  },
  {
   "cell_type": "markdown",
   "metadata": {},
   "source": [
    "## Main avec argv et argc\n",
    "Pour utiliser les arguments passés en ligne de commande en C, il faut déclarer le `main` du programme dans la forme\n",
    "\n",
    "```\n",
    "int main (int argc, char *argv[])\n",
    "```\n",
    "\n",
    "La variable `argc` contient le **nombre d'arguments passés**, mais attention : le nom du programme compte aussi comme argument.\n",
    "\n",
    "La variable `argv` est un tableau (`[]`) de `char*`. Rappelez-vous la l'utilisation qu'on avait fait de `char*`; c'étaut pour stocker des chaînes de caractères. Alors, `argv` est un tableau de chaînes.\n",
    "\n",
    "Si on lance le programme avec \n",
    "\n",
    "```\n",
    "> ./monprogramme \"un long argument1\" argument2\n",
    "```\n",
    "\n",
    "on a les valeurs suivantes \n",
    "\n",
    "- `argc` = 3 (on compte `monprogramme`)\n",
    "- `argv[0]` = `monprogramme`\n",
    "- `argv[1]` = `un long argument1` (le shell a enlevé les guillemets)\n",
    "- `argv[2]` = `argument2`\n",
    "\n"
   ]
  },
  {
   "cell_type": "markdown",
   "metadata": {},
   "source": [
    "## Le shell dans un Jupyter Notebook\n",
    "Dans un Jupyter Notebook, il n'y a pas de terminal et donc pas de ligne de commande. Par contre, un peut passer une commande en utilisant le shell: il suffit de commencer la commande avec un point d'exclamation (`!`). Pour afficher le contenu du dossier courant avec `ls`, on utilise:\n",
    "\n",
    "```\n",
    "!ls\n",
    "```"
   ]
  },
  {
   "cell_type": "code",
   "execution_count": 2,
   "metadata": {},
   "outputs": [
    {
     "name": "stdout",
     "output_type": "stream",
     "text": [
      "'IN102-00 Avant de commencer.ipynb'\r\n",
      "'IN102-01 Premiers Pas.ipynb'\r\n",
      "'IN102-02 Variables et Operations.ipynb'\r\n",
      "'IN102-03 Branchements.ipynb'\r\n",
      "'IN102-04 Pointeurs.ipynb'\r\n",
      "'IN102-05 Fonctions.ipynb'\r\n",
      "'IN102-06 Fonctions (suite) - Entrees - Struct.ipynb'\r\n",
      "'IN102-07 Chaines.ipynb'\r\n",
      "'IN102-08 Tableaux.ipynb'\r\n",
      "'IN102-09 argv.ipynb'\r\n",
      " __pycache__\r\n"
     ]
    }
   ],
   "source": [
    "!ls"
   ]
  },
  {
   "cell_type": "markdown",
   "metadata": {},
   "source": [
    "Afin de lancer un programme avec le shell dans un Jupyter Notebook, il faut stocker le code dans un fichier `.c` et le compiler avec `gcc`.\n",
    "Pour stocker, on utilse une cellule avec le mot magique \n",
    "```\n",
    "%%writefile monprogramme.c\n",
    "#include <stdio.h>\n",
    "... et ensuite le code ...\n",
    "```\n",
    "et pour compiler avec `gcc`, c'est \n",
    "```\n",
    "!gcc -Wall -Wfatal-error monprogramme.c\n",
    "```"
   ]
  },
  {
   "cell_type": "code",
   "execution_count": 10,
   "metadata": {},
   "outputs": [
    {
     "name": "stdout",
     "output_type": "stream",
     "text": [
      "Overwriting monprogramme.c\n"
     ]
    }
   ],
   "source": [
    "%%writefile monprogramme.c\n",
    "#include <stdio.h>\n",
    "int main() {\n",
    "    printf(\"Bonjour!\\n\");\n",
    "}"
   ]
  },
  {
   "cell_type": "code",
   "execution_count": 11,
   "metadata": {},
   "outputs": [],
   "source": [
    "!gcc -Wall -Wfatal-errors monprogramme.c"
   ]
  },
  {
   "cell_type": "code",
   "execution_count": 12,
   "metadata": {},
   "outputs": [
    {
     "name": "stdout",
     "output_type": "stream",
     "text": [
      "Bonjour!\r\n"
     ]
    }
   ],
   "source": [
    "!./a.out"
   ]
  },
  {
   "cell_type": "markdown",
   "metadata": {},
   "source": [
    "## Exemple: Afficher les arguments\n",
    "On ecrit un programme pour afficher tous les arguments passés par la ligne de commande:"
   ]
  },
  {
   "cell_type": "code",
   "execution_count": 13,
   "metadata": {},
   "outputs": [
    {
     "name": "stdout",
     "output_type": "stream",
     "text": [
      "Overwriting monprogramme.c\n"
     ]
    }
   ],
   "source": [
    "%%writefile monprogramme.c\n",
    "#include <stdio.h>\n",
    "int main(int argc, char *argv[]) {\n",
    "    for (int i = 0; i<argc; ++i) {\n",
    "        printf(\"Argument %d: %s\\n\",i,argv[i]);\n",
    "    }\n",
    "}"
   ]
  },
  {
   "cell_type": "code",
   "execution_count": 14,
   "metadata": {},
   "outputs": [],
   "source": [
    "!gcc -Wall -Wfatal-errors monprogramme.c"
   ]
  },
  {
   "cell_type": "code",
   "execution_count": 15,
   "metadata": {},
   "outputs": [
    {
     "name": "stdout",
     "output_type": "stream",
     "text": [
      "Argument 0: ./a.out\r\n"
     ]
    }
   ],
   "source": [
    "!./a.out"
   ]
  },
  {
   "cell_type": "code",
   "execution_count": 16,
   "metadata": {},
   "outputs": [
    {
     "name": "stdout",
     "output_type": "stream",
     "text": [
      "Argument 0: ./a.out\r\n",
      "Argument 1: un argument long\r\n"
     ]
    }
   ],
   "source": [
    "!./a.out \"un argument long\""
   ]
  },
  {
   "cell_type": "code",
   "execution_count": 18,
   "metadata": {},
   "outputs": [
    {
     "name": "stdout",
     "output_type": "stream",
     "text": [
      "Argument 0: ./a.out\r\n",
      "Argument 1: 1\r\n",
      "Argument 2: 23\r\n",
      "Argument 3: 4\r\n",
      "Argument 4: -7\r\n",
      "Argument 5: 8 9\r\n",
      "Argument 6: 10 11\r\n"
     ]
    }
   ],
   "source": [
    "!./a.out 1 23 4 -7 \"8 9\" '10 11'"
   ]
  },
  {
   "cell_type": "markdown",
   "metadata": {},
   "source": [
    "## Passer des nombres en argument\n",
    "Les arguments passés par la ligne de commande sont forcement des chaînes de caractères. Pour passer un nombre, il faut convertir la chaîne en nombre. Pour cela, il existent les fonctions suivantes en C (requièrent `#include <stdlib.h>`):\n",
    "\n",
    "- `int atoi(char* c)` : produit un entier de type `int`\n",
    "- `double atof(char* c)` : produit un flottant de type `double`"
   ]
  },
  {
   "cell_type": "markdown",
   "metadata": {},
   "source": [
    "Voici un exemple qui prend en argument deux entiers et affiche leur somme:"
   ]
  },
  {
   "cell_type": "code",
   "execution_count": 22,
   "metadata": {},
   "outputs": [
    {
     "name": "stdout",
     "output_type": "stream",
     "text": [
      "Overwriting monprogramme.c\n"
     ]
    }
   ],
   "source": [
    "%%writefile monprogramme.c\n",
    "#include <stdio.h>\n",
    "#include <stdlib.h> // necessaire pour atoi\n",
    "int main(int argc, char *argv[]) {\n",
    "    int x = atoi(argv[1]); // premier argument\n",
    "    int y = atoi(argv[2]); // deuxième argument\n",
    "    printf(\"%d + %d = %d\",x,y,x+y);\n",
    "}"
   ]
  },
  {
   "cell_type": "code",
   "execution_count": 23,
   "metadata": {},
   "outputs": [],
   "source": [
    "!gcc -Wall -Wfatal-errors monprogramme.c"
   ]
  },
  {
   "cell_type": "code",
   "execution_count": 25,
   "metadata": {},
   "outputs": [
    {
     "name": "stdout",
     "output_type": "stream",
     "text": [
      "3 + 4 = 7"
     ]
    }
   ],
   "source": [
    "!./a.out 3 4"
   ]
  },
  {
   "cell_type": "markdown",
   "metadata": {},
   "source": [
    "## Exercice: Quotient de deux flottants\n",
    "Ecrivez un programme qui calcule le quotient de deux nombres flottants."
   ]
  },
  {
   "cell_type": "code",
   "execution_count": 27,
   "metadata": {},
   "outputs": [
    {
     "name": "stdout",
     "output_type": "stream",
     "text": [
      "Overwriting monprogramme.c\n"
     ]
    }
   ],
   "source": [
    "%%writefile monprogramme.c\n",
    "#include <stdio.h>\n",
    "int main(int argc, char *argv[]) {\n",
    "    // à compléter\n",
    "}"
   ]
  },
  {
   "cell_type": "code",
   "execution_count": 28,
   "metadata": {},
   "outputs": [],
   "source": [
    "!gcc -Wall -Wfatal-errors monprogramme.c"
   ]
  },
  {
   "cell_type": "code",
   "execution_count": 29,
   "metadata": {},
   "outputs": [],
   "source": [
    "!./a.out 3.14 2"
   ]
  },
  {
   "cell_type": "code",
   "execution_count": null,
   "metadata": {},
   "outputs": [],
   "source": []
  }
 ],
 "metadata": {
  "celltoolbar": "Raw Cell Format",
  "kernelspec": {
   "display_name": "Python 3",
   "language": "python",
   "name": "python3"
  },
  "language_info": {
   "codemirror_mode": {
    "name": "ipython",
    "version": 3
   },
   "file_extension": ".py",
   "mimetype": "text/x-python",
   "name": "python",
   "nbconvert_exporter": "python",
   "pygments_lexer": "ipython3",
   "version": "3.7.3"
  },
  "rise": {
   "enable_chalkboard": true,
   "theme": "simple",
   "transition": "none"
  },
  "toc": {
   "base_numbering": 1,
   "nav_menu": {},
   "number_sections": true,
   "sideBar": true,
   "skip_h1_title": false,
   "title_cell": "Sommaire",
   "title_sidebar": "Sommaire",
   "toc_cell": true,
   "toc_position": {
    "height": "calc(100% - 180px)",
    "left": "10px",
    "top": "150px",
    "width": "261px"
   },
   "toc_section_display": true,
   "toc_window_display": false
  }
 },
 "nbformat": 4,
 "nbformat_minor": 2
}
