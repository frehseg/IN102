{
 "cells": [
  {
   "cell_type": "markdown",
   "metadata": {
    "slideshow": {
     "slide_type": "slide"
    },
    "toc": true
   },
   "source": [
    "<h1>Sommaire<span class=\"tocSkip\"></span></h1>\n",
    "<div class=\"toc\"><ul class=\"toc-item\"><li><span><a href=\"#Pointeurs\" data-toc-modified-id=\"Pointeurs-1\"><span class=\"toc-item-num\">1&nbsp;&nbsp;</span>Pointeurs</a></span></li></ul></div>"
   ]
  },
  {
   "cell_type": "markdown",
   "metadata": {},
   "source": [
    "**Attention:** Pour activer le langage C, executer le code suivant avec Shift+Entrée où avec le bouton \"Run\"."
   ]
  },
  {
   "cell_type": "code",
   "execution_count": null,
   "metadata": {
    "scrolled": true
   },
   "outputs": [],
   "source": [
    "!pip install git+git://github.com/frehseg/gcc4jupyter\n",
    "%load_ext gcc_plugin\n",
    "# marche pas sur Google Colab: %load_ext add_cpp_magic"
   ]
  },
  {
   "cell_type": "markdown",
   "metadata": {
    "slideshow": {
     "slide_type": "slide"
    }
   },
   "source": [
    "# Pointeurs\n",
    "\n",
    "Chaque variable est stocké dans la mémoire à une adresse réservée pour elle toute seule.\n",
    "\n",
    "Cette adresse est un nombre entier positif, sur 32 ou 64 bit (selon la machine).\n",
    "\n",
    "```\n",
    "int i = 123;\n",
    "double x = 0.1;\n",
    "```\n",
    "\n",
    "| variable  | adresse | contenu |\n",
    "| -- | -- | -- |\n",
    "| x |1028 |  0.1  |\n",
    "| i | 1024 | 123 | "
   ]
  },
  {
   "cell_type": "markdown",
   "metadata": {
    "slideshow": {
     "slide_type": "slide"
    }
   },
   "source": [
    "On peut faire des calculs très malin si on stocke cette adresse aussi dans une variable : un __pointeur__.\n",
    "\n",
    "Un pointeur est une variable qui contient l'adresse de mémoire d'une autre variable. \n",
    "\n",
    "Un pointeur a le type de la variable cible, suivi par `*`: `int* px`\n",
    "\n",
    "On obtient l'adresse du cible avec `&`: `px = &x`"
   ]
  },
  {
   "cell_type": "markdown",
   "metadata": {
    "slideshow": {
     "slide_type": "slide"
    }
   },
   "source": [
    "\n",
    "\n",
    "```\n",
    "int i = 123;\n",
    "double x = 0.1;\n",
    "int* pi = &i;   // pointer vers i\n",
    "double* px = &x;   // pointer vers x\n",
    "\n",
    "```\n",
    "| variable  | adresse | contenu |\n",
    "| -- | -- | -- |\n",
    "| px |1044 | 1028 |\n",
    "| pi |1036 | 1024 |\n",
    "| x |1028 |  0.1  |\n",
    "| i | 1024 | 123 | \n",
    "\n"
   ]
  },
  {
   "cell_type": "markdown",
   "metadata": {
    "slideshow": {
     "slide_type": "slide"
    }
   },
   "source": [
    "Un pointeur peut pointer vers un autre pointeur:\n",
    "\n",
    "```\n",
    "int i = 123;\n",
    "double x = 0.1;\n",
    "int* pi = &i;   // pointeur vers i\n",
    "double* px = &x;   // pointeur vers x\n",
    "double** ppx = &px; // pointeur vers px\n",
    "```\n",
    "\n",
    "| variable  | adresse | contenu |\n",
    "| -- | -- | -- |\n",
    "| ppx |1052 | 1044 |\n",
    "| px |1044 | 1028 |\n",
    "| pi |1036 | 1024 |\n",
    "| x |1028 |  0.1  |\n",
    "| i | 1024 | 123 | \n"
   ]
  },
  {
   "cell_type": "code",
   "execution_count": null,
   "metadata": {
    "slideshow": {
     "slide_type": "slide"
    }
   },
   "outputs": [],
   "source": [
    "%%c\n",
    "int main() {\n",
    "    int i = 123;\n",
    "    double x = 0.1;\n",
    "    int* pi = &i;   // pointeur vers i\n",
    "    double* px = &x;   // pointeur vers x\n",
    "    double** ppx = &px; // pointeur vers px\n",
    "}"
   ]
  },
  {
   "cell_type": "markdown",
   "metadata": {
    "slideshow": {
     "slide_type": "slide"
    }
   },
   "source": [
    "Avec un pointeur on peut modifier la variable cible ajoutant un `&` devant le pointeur :\n",
    "\n",
    "```\n",
    "int i = 123;\n",
    "double x = 0.1;\n",
    "int* pi = &i;   // pointeur vers i\n",
    "```\n",
    "\n",
    "| variable  | adresse | contenu |\n",
    "| -- | -- | -- |\n",
    "| pi |1036 | 1024 |\n",
    "| x |1028 |  0.1  |\n",
    "| i | 1024 | 123 | "
   ]
  },
  {
   "cell_type": "markdown",
   "metadata": {
    "slideshow": {
     "slide_type": "fragment"
    }
   },
   "source": [
    "\n",
    "```\n",
    "*pi = -7;\n",
    "```\n",
    "\n",
    "| variable  | adresse | contenu |\n",
    "| -- | -- | -- |\n",
    "| pi |1036 | 1024 |\n",
    "| x |1028 |  0.1  |\n",
    "| i | 1024 | -7 | "
   ]
  },
  {
   "cell_type": "markdown",
   "metadata": {
    "slideshow": {
     "slide_type": "slide"
    }
   },
   "source": [
    "__a retenir :__\n",
    "\n",
    "pointeur à partir d'une variable : __`&x`__\n",
    "\n",
    "variable à partir d'un pointeur : __`*px`__\n",
    "\n",
    "\n",
    "\n",
    "Les pointeurs seront essentiel pour les fonctions..."
   ]
  },
  {
   "cell_type": "markdown",
   "metadata": {
    "raw_mimetype": "text/markdown"
   },
   "source": [
    "<script>\n",
    "    console.log(\"Hello. You'll see this printed in your browser's DevTools / Console. Feel free to delete this line.\");\n",
    "    document.querySelector('head').innerHTML += '<style>.slides { zoom: 1.0 !important; }</style>';\n",
    "</script>"
   ]
  },
  {
   "cell_type": "code",
   "execution_count": null,
   "metadata": {},
   "outputs": [],
   "source": []
  }
 ],
 "metadata": {
  "celltoolbar": "Raw Cell Format",
  "kernelspec": {
   "display_name": "Python 3",
   "language": "python",
   "name": "python3"
  },
  "language_info": {
   "codemirror_mode": {
    "name": "ipython",
    "version": 3
   },
   "file_extension": ".py",
   "mimetype": "text/x-python",
   "name": "python",
   "nbconvert_exporter": "python",
   "pygments_lexer": "ipython3",
   "version": "3.7.3"
  },
  "rise": {
   "enable_chalkboard": true,
   "theme": "simple",
   "transition": "none"
  },
  "toc": {
   "base_numbering": 1,
   "nav_menu": {},
   "number_sections": true,
   "sideBar": true,
   "skip_h1_title": false,
   "title_cell": "Sommaire",
   "title_sidebar": "Sommaire",
   "toc_cell": true,
   "toc_position": {
    "height": "calc(100% - 180px)",
    "left": "10px",
    "top": "150px",
    "width": "261px"
   },
   "toc_section_display": true,
   "toc_window_display": false
  }
 },
 "nbformat": 4,
 "nbformat_minor": 2
}
