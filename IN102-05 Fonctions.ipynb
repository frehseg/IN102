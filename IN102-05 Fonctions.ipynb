{
 "cells": [
  {
   "cell_type": "markdown",
   "metadata": {
    "slideshow": {
     "slide_type": "slide"
    },
    "toc": true
   },
   "source": [
    "<h1>Sommaire<span class=\"tocSkip\"></span></h1>\n",
    "<div class=\"toc\"><ul class=\"toc-item\"><li><span><a href=\"#Fonctions\" data-toc-modified-id=\"Fonctions-1\"><span class=\"toc-item-num\">1&nbsp;&nbsp;</span>Fonctions</a></span><ul class=\"toc-item\"><li><span><a href=\"#Exercice-:-Conversion-Fahrenheit-Celsius-dans-une-fonction\" data-toc-modified-id=\"Exercice-:-Conversion-Fahrenheit-Celsius-dans-une-fonction-1.1\"><span class=\"toc-item-num\">1.1&nbsp;&nbsp;</span>Exercice : Conversion Fahrenheit-Celsius dans une fonction</a></span></li><li><span><a href=\"#Exemple:-Fonction-d'affichage\" data-toc-modified-id=\"Exemple:-Fonction-d'affichage-1.2\"><span class=\"toc-item-num\">1.2&nbsp;&nbsp;</span>Exemple: Fonction d'affichage</a></span></li></ul></li></ul></div>"
   ]
  },
  {
   "cell_type": "markdown",
   "metadata": {},
   "source": [
    "**Attention:** Pour activer le langage C, executer le code suivant avec Shift+Entrée où avec le bouton \"Run\"."
   ]
  },
  {
   "cell_type": "code",
   "execution_count": null,
   "metadata": {},
   "outputs": [],
   "source": [
    "!pip install git+git://github.com/frehseg/gcc4jupyter\n",
    "%load_ext gcc_plugin\n",
    "# marche pas sur Google Colab: %load_ext add_cpp_magic"
   ]
  },
  {
   "cell_type": "markdown",
   "metadata": {
    "slideshow": {
     "slide_type": "slide"
    }
   },
   "source": [
    "# Fonctions"
   ]
  },
  {
   "cell_type": "markdown",
   "metadata": {
    "slideshow": {
     "slide_type": "fragment"
    }
   },
   "source": [
    "Format d'une fonction :\n",
    "\n",
    "...type de retour... `nom_de_fonction` `(` ... arguments ... `)` `{`\n",
    "\n",
    "    ... instructions ...\n",
    "\n",
    "`}`"
   ]
  },
  {
   "cell_type": "markdown",
   "metadata": {
    "slideshow": {
     "slide_type": "fragment"
    }
   },
   "source": [
    "Les arguments sont des variables locales dont la portée est le bloc de la fonction:\n",
    "\n",
    "``\n",
    "int carre (int x) {\n",
    "  return x * x;\n",
    "}\n",
    "``"
   ]
  },
  {
   "cell_type": "markdown",
   "metadata": {
    "slideshow": {
     "slide_type": "slide"
    }
   },
   "source": [
    "## Exercice : Conversion Fahrenheit-Celsius dans une fonction"
   ]
  },
  {
   "cell_type": "code",
   "execution_count": null,
   "metadata": {
    "slideshow": {
     "slide_type": "subslide"
    }
   },
   "outputs": [],
   "source": [
    "%%c\n",
    "#include <stdio.h>  /* Pour acceder a printf. */\n",
    "\n",
    "int main () {\n",
    "  double x = 80;                        // temperature en Fahrenheit\n",
    "  double y = 5.0 / 9 * x - 160.0 / 9;\n",
    "  printf (\"%.2f F -> %.2f C\\n\", x, y) ;\n",
    "\n",
    "  return 0;\n",
    "}"
   ]
  },
  {
   "cell_type": "code",
   "execution_count": null,
   "metadata": {
    "slideshow": {
     "slide_type": "slide"
    }
   },
   "outputs": [],
   "source": [
    "%%c\n",
    "#include <stdio.h>  /* Pour acceder a printf. */\n",
    "\n",
    "/* Convertir un température x de Fahrenheit en Celsius */\n",
    "double F2C(double x) {\n",
    "  double y = 5.0 / 9 * x - 160.0 / 9;\n",
    "  return y;\n",
    "} \n",
    "\n",
    "int main () {\n",
    "  double x = 80;                        // temperature en Fahrenheit\n",
    "  double y = F2C(x);\n",
    "  printf (\"%.2f F -> %.2f C\\n\", x, y) ;\n",
    "\n",
    "  return 0;\n",
    "}"
   ]
  },
  {
   "cell_type": "markdown",
   "metadata": {
    "slideshow": {
     "slide_type": "slide"
    }
   },
   "source": [
    "```\n",
    "double F2C(double x) {\n",
    "    double y = 5.0 / 9 * x - 160.0 / 9;\n",
    "    return y;\n",
    "} \n",
    "int main () {\n",
    "<@> double x = 80; // x est alloué 8 octets et 80 y est copiée                       \n",
    "    double y = F2C(x);\n",
    "    printf (\"%.2f F -> %.2f C\\n\", x, y) ;\n",
    "    return 0;\n",
    "}\n",
    "```\n",
    "| variable  | adresse | contenu |\n",
    "| -- | -- | -- |\n",
    "| x (main) |1028 |  80  |\n"
   ]
  },
  {
   "cell_type": "markdown",
   "metadata": {
    "slideshow": {
     "slide_type": "slide"
    }
   },
   "source": [
    "```\n",
    "double F2C(double x) {\n",
    "<@> // la variable locale x est crée, \n",
    "    // et la valeur de l'argument effectif y est copié\n",
    "    double y = 5.0 / 9 * x - 160.0 / 9;\n",
    "    return y;\n",
    "} \n",
    "int main () {\n",
    "    double x = 80;                       \n",
    "    double y = <@>F2C(x);\n",
    "    printf (\"%.2f F -> %.2f C\\n\", x, y) ;\n",
    "    return 0;\n",
    "}\n",
    "\n",
    "```\n",
    "| variable  | adresse | contenu |\n",
    "| -- | -- | -- |\n",
    "| x (F2C) |1044 |  80  |\n",
    "| y (main) |1036 |  ???  |\n",
    "| x (main) |1028 |  80  |\n"
   ]
  },
  {
   "cell_type": "markdown",
   "metadata": {
    "slideshow": {
     "slide_type": "slide"
    }
   },
   "source": [
    "```\n",
    "double F2C(double x) {\n",
    "<@> double y = 5.0 / 9 * x - 160.0 / 9; // y est créé et affecté sa valeur\n",
    "    return y;\n",
    "} \n",
    "int main () {\n",
    "    double x = 80;                       \n",
    "    double y = <@>F2C(x);\n",
    "    printf (\"%.2f F -> %.2f C\\n\", x, y) ;\n",
    "    return 0;\n",
    "}\n",
    "```\n",
    "| variable  | adresse | contenu (4 octets) |\n",
    "| -- | -- | -- |\n",
    "| y (F2C) |1052 |  26.66667  |\n",
    "| x (F2C) |1044 |  80  |\n",
    "| y (main) |1036 |  ???  |\n",
    "| x (main) |1028 |  80  |\n"
   ]
  },
  {
   "cell_type": "markdown",
   "metadata": {
    "slideshow": {
     "slide_type": "slide"
    }
   },
   "source": [
    "```\n",
    "double F2C(double x) {\n",
    "    double y = 5.0 / 9 * x - 160.0 / 9;\n",
    "<@> return y; // la valeur de retour est copié dans un tampon (registre)\n",
    "} \n",
    "int main () {\n",
    "    double x = 80;                       \n",
    "    double y = <@>F2C(x);\n",
    "    printf (\"%.2f F -> %.2f C\\n\", x, y) ;\n",
    "    return 0;\n",
    "}\n",
    "```\n",
    "| variable  | adresse | contenu |\n",
    "| -- | -- | -- |\n",
    "| val. retour | registre |  26.66667  |\n",
    "| y (F2C) |1052 |  26.66667  |\n",
    "| x (F2C) |1044 |  80  |\n",
    "| y (main) |1036 |  ???  |\n",
    "| x (main) |1028 |  80  |\n"
   ]
  },
  {
   "cell_type": "markdown",
   "metadata": {
    "slideshow": {
     "slide_type": "slide"
    }
   },
   "source": [
    "```\n",
    "double F2C(double x) {\n",
    "    double y = 5.0 / 9 * x - 160.0 / 9;\n",
    "    return y;\n",
    "<@> } // fin du bloc : variables locales libérées\n",
    "int main () {\n",
    "    double x = 80;                       \n",
    "    double y = <@>F2C(x);\n",
    "    printf (\"%.2f F -> %.2f C\\n\", x, y) ;\n",
    "    return 0;\n",
    "}\n",
    "```\n",
    "| variable  | adresse | contenu |\n",
    "| -- | -- | -- |\n",
    "| val. retour | registre |  26.66667  |\n",
    "| y (main) |1036 |  ???  |\n",
    "| x (main) |1028 |  80  |\n"
   ]
  },
  {
   "cell_type": "markdown",
   "metadata": {
    "slideshow": {
     "slide_type": "slide"
    }
   },
   "source": [
    "```\n",
    "double F2C(double x) {\n",
    "    double y = 5.0 / 9 * x - 160.0 / 9;\n",
    "    return y;\n",
    "} \n",
    "int main () {\n",
    "    double x = 80;                       \n",
    "<@> double y = F2C(x); // val. de retour copié dans y\n",
    "    printf (\"%.2f F -> %.2f C\\n\", x, y) ;\n",
    "    return 0;\n",
    "}\n",
    "```\n",
    "| variable  | adresse | contenu (4 octets) |\n",
    "| -- | -- | -- |\n",
    "| y (main) |1036 |  26.66667  |\n",
    "| x (main) |1028 |  80  |\n"
   ]
  },
  {
   "cell_type": "markdown",
   "metadata": {
    "slideshow": {
     "slide_type": "slide"
    }
   },
   "source": [
    "## Exemple: Fonction d'affichage\n",
    "\n",
    "Une fonction qui ne donne pas de valeur de retour est déclaré avec :\n",
    "\n",
    "`void` nom-de-fonction`(`...`)`"
   ]
  },
  {
   "cell_type": "code",
   "execution_count": null,
   "metadata": {
    "slideshow": {
     "slide_type": "fragment"
    }
   },
   "outputs": [],
   "source": [
    "%%c\n",
    "#include <stdio.h>  /* Pour acceder a printf. */\n",
    "\n",
    "/* Convertir un température x de Fahrenheit en Celsius */\n",
    "double Fahrenheit2Celsius(double x) {\n",
    "  double y = 5.0 / 9 * x - 160.0 / 9;\n",
    "  return y;\n",
    "} \n",
    "\n",
    "int main ()\n",
    "{\n",
    "  double x = 80;                        // temperature en Fahrenheit\n",
    "  double y = Fahrenheit2Celsius(x);\n",
    "  printf (\"%.2f F -> %.2f C\\n\", x, y) ;\n",
    "\n",
    "  return 0;\n",
    "}"
   ]
  },
  {
   "cell_type": "code",
   "execution_count": null,
   "metadata": {
    "slideshow": {
     "slide_type": "slide"
    }
   },
   "outputs": [],
   "source": [
    "%%c\n",
    "#include <stdio.h>  /* Pour acceder a printf. */\n",
    "\n",
    "/* Convertir un température x de Fahrenheit en Celsius */\n",
    "double Fahrenheit2Celsius(double x) {\n",
    "  double y = 5.0 / 9 * x - 160.0 / 9;\n",
    "  return y;\n",
    "} \n",
    "\n",
    "/* Afficher le résultat */\n",
    "void afficher_resultat(double x, double y) {\n",
    "    printf (\"%.2f F -> %.2f C\\n\", x, y) ;\n",
    "}\n",
    "\n",
    "int main ()\n",
    "{\n",
    "  double x = 80;                        // temperature en Fahrenheit\n",
    "  double y = Fahrenheit2Celsius(x);\n",
    "  afficher_resultat(x,y);\n",
    "\n",
    "  return 0;\n",
    "}"
   ]
  }
 ],
 "metadata": {
  "celltoolbar": "Raw Cell Format",
  "kernelspec": {
   "display_name": "Python 3",
   "language": "python",
   "name": "python3"
  },
  "language_info": {
   "codemirror_mode": {
    "name": "ipython",
    "version": 3
   },
   "file_extension": ".py",
   "mimetype": "text/x-python",
   "name": "python",
   "nbconvert_exporter": "python",
   "pygments_lexer": "ipython3",
   "version": "3.7.3"
  },
  "rise": {
   "enable_chalkboard": true,
   "theme": "simple",
   "transition": "none"
  },
  "toc": {
   "base_numbering": 1,
   "nav_menu": {},
   "number_sections": true,
   "sideBar": true,
   "skip_h1_title": false,
   "title_cell": "Sommaire",
   "title_sidebar": "Sommaire",
   "toc_cell": true,
   "toc_position": {
    "height": "calc(100% - 180px)",
    "left": "10px",
    "top": "150px",
    "width": "261px"
   },
   "toc_section_display": true,
   "toc_window_display": false
  }
 },
 "nbformat": 4,
 "nbformat_minor": 2
}
