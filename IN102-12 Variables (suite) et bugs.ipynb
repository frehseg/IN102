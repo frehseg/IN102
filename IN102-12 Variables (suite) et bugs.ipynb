{
 "cells": [
  {
   "cell_type": "markdown",
   "metadata": {
    "slideshow": {
     "slide_type": "slide"
    },
    "toc": true
   },
   "source": [
    "<h1>Sommaire<span class=\"tocSkip\"></span></h1>\n",
    "<div class=\"toc\"><ul class=\"toc-item\"><li><span><a href=\"#Variables-(suite)\" data-toc-modified-id=\"Variables-(suite)-1\"><span class=\"toc-item-num\">1&nbsp;&nbsp;</span>Variables (suite)</a></span><ul class=\"toc-item\"><li><span><a href=\"#Initialisation-des-variables\" data-toc-modified-id=\"Initialisation-des-variables-1.1\"><span class=\"toc-item-num\">1.1&nbsp;&nbsp;</span>Initialisation des variables</a></span></li><li><span><a href=\"#Limites-des-types-numériques\" data-toc-modified-id=\"Limites-des-types-numériques-1.2\"><span class=\"toc-item-num\">1.2&nbsp;&nbsp;</span>Limites des types numériques</a></span></li><li><span><a href=\"#Débordement\" data-toc-modified-id=\"Débordement-1.3\"><span class=\"toc-item-num\">1.3&nbsp;&nbsp;</span>Débordement</a></span></li><li><span><a href=\"#Bug-méchant\" data-toc-modified-id=\"Bug-méchant-1.4\"><span class=\"toc-item-num\">1.4&nbsp;&nbsp;</span>Bug méchant</a></span></li><li><span><a href=\"#Conversion-implicite\" data-toc-modified-id=\"Conversion-implicite-1.5\"><span class=\"toc-item-num\">1.5&nbsp;&nbsp;</span>Conversion implicite</a></span><ul class=\"toc-item\"><li><span><a href=\"#Exemple-de-conversion-char-int\" data-toc-modified-id=\"Exemple-de-conversion-char-int-1.5.1\"><span class=\"toc-item-num\">1.5.1&nbsp;&nbsp;</span>Exemple de conversion char-int</a></span></li><li><span><a href=\"#Exemple-de-conversion-float-double\" data-toc-modified-id=\"Exemple-de-conversion-float-double-1.5.2\"><span class=\"toc-item-num\">1.5.2&nbsp;&nbsp;</span>Exemple de conversion float-double</a></span></li><li><span><a href=\"#Exemple-de-conversion-double-int\" data-toc-modified-id=\"Exemple-de-conversion-double-int-1.5.3\"><span class=\"toc-item-num\">1.5.3&nbsp;&nbsp;</span>Exemple de conversion double-int</a></span></li><li><span><a href=\"#Exemples-de-conversion-incorrecte\" data-toc-modified-id=\"Exemples-de-conversion-incorrecte-1.5.4\"><span class=\"toc-item-num\">1.5.4&nbsp;&nbsp;</span>Exemples de conversion incorrecte</a></span></li></ul></li></ul></li><li><span><a href=\"#Operateurs-de-base-(suite)\" data-toc-modified-id=\"Operateurs-de-base-(suite)-2\"><span class=\"toc-item-num\">2&nbsp;&nbsp;</span>Operateurs de base (suite)</a></span><ul class=\"toc-item\"><li><span><a href=\"#Exponentiation\" data-toc-modified-id=\"Exponentiation-2.1\"><span class=\"toc-item-num\">2.1&nbsp;&nbsp;</span>Exponentiation</a></span></li></ul></li><li><span><a href=\"#Débogage-avec-printf\" data-toc-modified-id=\"Débogage-avec-printf-3\"><span class=\"toc-item-num\">3&nbsp;&nbsp;</span>Débogage avec printf</a></span><ul class=\"toc-item\"><li><span><a href=\"#Une-fonction-ne-donne-pas-la-valeur-attendue\" data-toc-modified-id=\"Une-fonction-ne-donne-pas-la-valeur-attendue-3.1\"><span class=\"toc-item-num\">3.1&nbsp;&nbsp;</span>Une fonction ne donne pas la valeur attendue</a></span></li><li><span><a href=\"#Boucle-while-n'arrête-pas-comme-prévu\" data-toc-modified-id=\"Boucle-while-n'arrête-pas-comme-prévu-3.2\"><span class=\"toc-item-num\">3.2&nbsp;&nbsp;</span>Boucle <code>while</code> n'arrête pas comme prévu</a></span></li><li><span><a href=\"#Le-programme-s'arrête-subitement\" data-toc-modified-id=\"Le-programme-s'arrête-subitement-3.3\"><span class=\"toc-item-num\">3.3&nbsp;&nbsp;</span>Le programme s'arrête subitement</a></span></li><li><span><a href=\"#Plusieurs-opérations-par-ligne\" data-toc-modified-id=\"Plusieurs-opérations-par-ligne-3.4\"><span class=\"toc-item-num\">3.4&nbsp;&nbsp;</span>Plusieurs opérations par ligne</a></span></li><li><span><a href=\"#Eviter-les-bugs\" data-toc-modified-id=\"Eviter-les-bugs-3.5\"><span class=\"toc-item-num\">3.5&nbsp;&nbsp;</span>Eviter les bugs</a></span></li><li><span><a href=\"#Stubs\" data-toc-modified-id=\"Stubs-3.6\"><span class=\"toc-item-num\">3.6&nbsp;&nbsp;</span>Stubs</a></span></li></ul></li></ul></div>"
   ]
  },
  {
   "cell_type": "code",
   "execution_count": 1,
   "metadata": {
    "scrolled": true
   },
   "outputs": [
    {
     "name": "stdout",
     "output_type": "stream",
     "text": [
      "Collecting git+git://github.com/frehseg/gcc4jupyter\n",
      "  Cloning git://github.com/frehseg/gcc4jupyter to /tmp/pip-req-build-jbn4re7v\n",
      "  Running command git clone -q git://github.com/frehseg/gcc4jupyter /tmp/pip-req-build-jbn4re7v\n",
      "Building wheels for collected packages: GCCPlugin\n",
      "  Building wheel for GCCPlugin (setup.py) ... \u001b[?25ldone\n",
      "\u001b[?25h  Created wheel for GCCPlugin: filename=GCCPlugin-0.0.8-cp37-none-any.whl size=2930 sha256=458c747b907bd1126e5a42c26e7b7d8ee42d4f04695437510022be73fb3a5e61\n",
      "  Stored in directory: /tmp/pip-ephem-wheel-cache-yjcp81xy/wheels/a6/ff/b4/023d42d3ec7c36b10e15db2a808aae8b2475e19fa6e370f85c\n",
      "Successfully built GCCPlugin\n",
      "Installing collected packages: GCCPlugin\n",
      "  Found existing installation: GCCPlugin 0.0.7\n",
      "    Uninstalling GCCPlugin-0.0.7:\n",
      "      Successfully uninstalled GCCPlugin-0.0.7\n",
      "Successfully installed GCCPlugin-0.0.8\n"
     ]
    }
   ],
   "source": [
    "!pip install git+git://github.com/frehseg/gcc4jupyter\n",
    "%load_ext gcc_plugin"
   ]
  },
  {
   "cell_type": "markdown",
   "metadata": {
    "slideshow": {
     "slide_type": "slide"
    }
   },
   "source": [
    "# Variables (suite)\n",
    "\n"
   ]
  },
  {
   "cell_type": "markdown",
   "metadata": {
    "slideshow": {
     "slide_type": "slide"
    }
   },
   "source": [
    "## Initialisation des variables"
   ]
  },
  {
   "cell_type": "markdown",
   "metadata": {
    "slideshow": {
     "slide_type": "fragment"
    }
   },
   "source": [
    "Qu'est-ce que se passe si on n'itialise pas une variable? Les instructions \n",
    "\n",
    "```int i;\n",
    "printf(\"%d\",i);```\n",
    "\n",
    "peuvent afficer la valeur 0, mais aussi tout autre valeur de `int` (`-98765`,`1234567`,...).\n",
    "C réserve la place dans la mémoire pour `i`, mais ne modifie pas le contenu des octets!"
   ]
  },
  {
   "cell_type": "markdown",
   "metadata": {
    "slideshow": {
     "slide_type": "slide"
    }
   },
   "source": [
    "Compiler avec `-Wall` permet d'attraper des fautes d'initialisation : \n",
    "\n",
    "```\n",
    "$ gcc -Wall test1.c\n",
    "test1.c: In function ‘main’:\n",
    "test1.c:3:4: warning: ‘i’ is used uninitialized in this function [-Wuninitialized]\n",
    "    printf(\"%d\",i);\n",
    "    ^~~~~~~~~~~~~~\n",
    "```\n",
    "\n",
    "Mieux initialiser tout de suite :\n",
    "```int i = 0;```"
   ]
  },
  {
   "cell_type": "code",
   "execution_count": 2,
   "metadata": {
    "slideshow": {
     "slide_type": "slide"
    }
   },
   "outputs": [
    {
     "name": "stdout",
     "output_type": "stream",
     "text": [
      "0\n"
     ]
    }
   ],
   "source": [
    "%%c\n",
    "#include <stdio.h>\n",
    "int main() {\n",
    "   int i;           // declaration sans initialisation\n",
    "   printf(\"%d\",i);\n",
    "}"
   ]
  },
  {
   "cell_type": "markdown",
   "metadata": {
    "slideshow": {
     "slide_type": "slide"
    }
   },
   "source": [
    "## Limites des types numériques \n",
    "\n",
    "Chaque variable a une certain taille, donnée en nombre d'octets. Cela impose forcément des limites sur la plage de valeurs.\n",
    "\n",
    "En conséquence, chaque type de variable a une valeur maximale et une valeur minimale qui peuvent être représentées."
   ]
  },
  {
   "cell_type": "markdown",
   "metadata": {
    "slideshow": {
     "slide_type": "slide"
    }
   },
   "source": [
    "Les limites sont disponibles dans `limits.h`:"
   ]
  },
  {
   "cell_type": "code",
   "execution_count": 3,
   "metadata": {
    "slideshow": {
     "slide_type": "fragment"
    }
   },
   "outputs": [
    {
     "name": "stdout",
     "output_type": "stream",
     "text": [
      "The number of bits in a byte = 8\n",
      "The minimum value of INT = -2147483648\n",
      "The maximum value of INT = 2147483647\n",
      "\n"
     ]
    }
   ],
   "source": [
    "%%c\n",
    "#include <stdio.h>\n",
    "#include <limits.h>\n",
    "\n",
    "int main() {\n",
    "   printf(\"The number of bits in a byte = %d\\n\", CHAR_BIT);\n",
    "   printf(\"The minimum value of INT = %d\\n\", INT_MIN);\n",
    "   printf(\"The maximum value of INT = %d\\n\", INT_MAX);\n",
    "  \n",
    "   return(0);\n",
    "}"
   ]
  },
  {
   "cell_type": "markdown",
   "metadata": {
    "slideshow": {
     "slide_type": "slide"
    }
   },
   "source": [
    "## Débordement\n",
    "\n",
    "Quand on dépasse la valeur maximale ou la valeur minimale d'une variable on parle de **débordement**. Le débordement peut entraîner des bugs difficiles à détecter. Pour un nombre nonsigné, le CPU calcule alors la valeur modulo (maximum + 1).\n",
    "\n",
    "Exemples avec type nonsigné:"
   ]
  },
  {
   "cell_type": "code",
   "execution_count": 34,
   "metadata": {
    "slideshow": {
     "slide_type": "fragment"
    }
   },
   "outputs": [
    {
     "name": "stdout",
     "output_type": "stream",
     "text": [
      "255\n",
      "0\n",
      "\n"
     ]
    }
   ],
   "source": [
    "%%c\n",
    "#include <stdio.h>\n",
    "#include <limits.h>\n",
    "\n",
    "int main() {\n",
    "   unsigned char c = 255;\n",
    "   printf(\"%u\\n\", c);\n",
    "   c = c + 1;              // 255 + 1 modulo 256 = 0\n",
    "   printf(\"%u\\n\", c);\n",
    "}"
   ]
  },
  {
   "cell_type": "code",
   "execution_count": 35,
   "metadata": {
    "slideshow": {
     "slide_type": "fragment"
    }
   },
   "outputs": [
    {
     "name": "stdout",
     "output_type": "stream",
     "text": [
      "0\n",
      "255\n",
      "\n"
     ]
    }
   ],
   "source": [
    "%%c\n",
    "#include <stdio.h>\n",
    "#include <limits.h>\n",
    "\n",
    "int main() {\n",
    "   unsigned char c = 0;\n",
    "   printf(\"%u\\n\", c);\n",
    "   c = c - 1;              // 0 - 1 modulo 256 = 255\n",
    "   printf(\"%u\\n\", c);\n",
    "}"
   ]
  },
  {
   "cell_type": "code",
   "execution_count": 33,
   "metadata": {
    "slideshow": {
     "slide_type": "fragment"
    }
   },
   "outputs": [
    {
     "name": "stdout",
     "output_type": "stream",
     "text": [
      "26\n",
      "4\n",
      "\n"
     ]
    }
   ],
   "source": [
    "%%c\n",
    "#include <stdio.h>\n",
    "#include <limits.h>\n",
    "\n",
    "int main() {\n",
    "   unsigned char c = 26;\n",
    "   printf(\"%u\\n\", c);\n",
    "   c = 10*c;             // 26*10 modulo 256 = 4\n",
    "   printf(\"%u\\n\", c);\n",
    "}"
   ]
  },
  {
   "cell_type": "markdown",
   "metadata": {
    "slideshow": {
     "slide_type": "slide"
    }
   },
   "source": [
    "Si le type est signé, le débordement passe de la valeur maximale à la valeur minimale et vice versa:"
   ]
  },
  {
   "cell_type": "code",
   "execution_count": 37,
   "metadata": {
    "slideshow": {
     "slide_type": "fragment"
    }
   },
   "outputs": [
    {
     "name": "stdout",
     "output_type": "stream",
     "text": [
      "127\n",
      "-128\n",
      "\n"
     ]
    }
   ],
   "source": [
    "%%c\n",
    "#include <stdio.h>\n",
    "#include <limits.h>\n",
    "\n",
    "int main() {\n",
    "   signed char c = 127;\n",
    "   printf(\"%d\\n\", c);\n",
    "   c = c + 1;\n",
    "   printf(\"%d\\n\", c);\n",
    "}"
   ]
  },
  {
   "cell_type": "code",
   "execution_count": 6,
   "metadata": {
    "slideshow": {
     "slide_type": "fragment"
    }
   },
   "outputs": [
    {
     "name": "stdout",
     "output_type": "stream",
     "text": [
      "2147483647\n",
      "-2147483648\n",
      "\n"
     ]
    }
   ],
   "source": [
    "%%c\n",
    "#include <stdio.h>\n",
    "#include <limits.h>\n",
    "\n",
    "int main() {\n",
    "   int i = 2147483647;\n",
    "   printf(\"%d\\n\", i);\n",
    "   i = i + 1;\n",
    "   printf(\"%d\\n\", i);\n",
    "}"
   ]
  },
  {
   "cell_type": "code",
   "execution_count": 31,
   "metadata": {
    "slideshow": {
     "slide_type": "fragment"
    }
   },
   "outputs": [
    {
     "name": "stdout",
     "output_type": "stream",
     "text": [
      "-2147483648\n",
      "2147483647\n",
      "\n"
     ]
    }
   ],
   "source": [
    "%%c\n",
    "#include <stdio.h>\n",
    "#include <limits.h>\n",
    "\n",
    "int main() {\n",
    "   int i = -2147483648;\n",
    "   printf(\"%d\\n\", i);\n",
    "   i = i - 1;\n",
    "   printf(\"%d\\n\", i);\n",
    "}"
   ]
  },
  {
   "cell_type": "markdown",
   "metadata": {
    "slideshow": {
     "slide_type": "slide"
    }
   },
   "source": [
    "## Bug méchant"
   ]
  },
  {
   "cell_type": "markdown",
   "metadata": {
    "slideshow": {
     "slide_type": "slide"
    }
   },
   "source": [
    "C'est quoi le problême avec le programmme suivant ?\n",
    "\n",
    "```\n",
    "#include <stdio.h>\n",
    "int main() {\n",
    "   unsigned int i;\n",
    "   for (i = 3; i >= 0; i=i-1) {\n",
    "      printf(\"i = %u\\n\", i); \n",
    "  }\n",
    "}\n",
    "```"
   ]
  },
  {
   "cell_type": "markdown",
   "metadata": {
    "slideshow": {
     "slide_type": "fragment"
    }
   },
   "source": [
    "``\n",
    "i = 3\n",
    "i = 2\n",
    "i = 1\n",
    "i = 0\n",
    "i = 4294967295\n",
    "i = 4294967294\n",
    "``..."
   ]
  },
  {
   "cell_type": "markdown",
   "metadata": {},
   "source": [
    "La boucle était censé compter de 3 à 0 dans l'ordre décroissante, mais elle tourne sans fin! Puisque `i` est une variable nonsigné, le résultat de `i-1` quand `i` vaut `0` est le nombre `4294967295`, qui est le plus grand nombre représenté par le type `unsigned int`. Du coup, le test `i >= 0` est toujours vrai et la boucle ne s'arrête jamais."
   ]
  },
  {
   "cell_type": "markdown",
   "metadata": {
    "slideshow": {
     "slide_type": "slide"
    }
   },
   "source": [
    "Version plus méchante :\n",
    "\n",
    "```\n",
    "#include <stdio.h>\n",
    "int main() {\n",
    "   unsigned int i;\n",
    "   for (i = 3; i >= 0; i=i-1) {\n",
    "      printf(\"i = %d\\n\", i); \n",
    "  }\n",
    "}\n",
    "```"
   ]
  },
  {
   "cell_type": "markdown",
   "metadata": {
    "slideshow": {
     "slide_type": "fragment"
    }
   },
   "source": [
    "``\n",
    "i = 3\n",
    "i = 2\n",
    "i = 1\n",
    "i = 0\n",
    "i = -1\n",
    "i = -2\n",
    "``..."
   ]
  },
  {
   "cell_type": "markdown",
   "metadata": {},
   "source": [
    "Ci-dessus, la boucle est exactement la même. Par contre, l'affichage est trompeur : On affiche avec le format `%d` qui interprête   `i` comme un nombre signé. Au lieu d'afficher le nombre `4294967295`, il affiche alors `-1`. Du coup on ne voit pas pourquoi la boucle ne s'arrête pas. Le seul moyen de trouver le bug c'est de regarder le *type* de la variable `i`."
   ]
  },
  {
   "cell_type": "markdown",
   "metadata": {
    "slideshow": {
     "slide_type": "slide"
    }
   },
   "source": [
    "## Conversion implicite\n",
    "\n",
    "Si on affecte une variable à une variable d'un autre type, C fait une conversion automatique. Si l'autre type ne peut pas représenter toutes les valeurs du type d'origine, ceci peut entraîner...(suspens)... des bugs.\n",
    "\n",
    "Exemple: <br>\n",
    "```unsigned char c; \n",
    "int i = 123; \n",
    "c = i; // ok pour entiers entre 0 et 255\n",
    "```\n"
   ]
  },
  {
   "cell_type": "code",
   "execution_count": 7,
   "metadata": {
    "slideshow": {
     "slide_type": "slide"
    }
   },
   "outputs": [
    {
     "name": "stdout",
     "output_type": "stream",
     "text": [
      "123\n"
     ]
    }
   ],
   "source": [
    "%%c\n",
    "#include <stdio.h>\n",
    "int main() {\n",
    "   unsigned char c; \n",
    "   int i = 123; \n",
    "   c = i; // ok pour entiers entre 0 et 255\n",
    "   printf(\"%d\",c);\n",
    "}"
   ]
  },
  {
   "cell_type": "code",
   "execution_count": 8,
   "metadata": {
    "slideshow": {
     "slide_type": "slide"
    }
   },
   "outputs": [
    {
     "name": "stdout",
     "output_type": "stream",
     "text": [
      "123\n"
     ]
    }
   ],
   "source": [
    "%%c\n",
    "#include <stdio.h>\n",
    "int main() {\n",
    "   unsigned char c; \n",
    "   int i = 256+123; \n",
    "   c = i; // ok pour entiers entre 0 et 255\n",
    "   printf(\"%d\",c);\n",
    "}"
   ]
  },
  {
   "cell_type": "markdown",
   "metadata": {
    "slideshow": {
     "slide_type": "slide"
    }
   },
   "source": [
    "En allant d'un flottant vers un entier, on perd la fraction:"
   ]
  },
  {
   "cell_type": "code",
   "execution_count": 38,
   "metadata": {
    "slideshow": {
     "slide_type": "slide"
    }
   },
   "outputs": [
    {
     "name": "stdout",
     "output_type": "stream",
     "text": [
      "3\n"
     ]
    }
   ],
   "source": [
    "%%c\n",
    "#include <stdio.h>\n",
    "int main() {\n",
    "   int i; \n",
    "   double d = 3.4142;\n",
    "   i = d; // ok entre -2147483648 et 2147483647\n",
    "   printf(\"%d\",i);\n",
    "}"
   ]
  },
  {
   "cell_type": "code",
   "execution_count": 40,
   "metadata": {
    "slideshow": {
     "slide_type": "slide"
    }
   },
   "outputs": [
    {
     "name": "stdout",
     "output_type": "stream",
     "text": [
      "3\n"
     ]
    }
   ],
   "source": [
    "%%c\n",
    "#include <stdio.h>\n",
    "int main() {\n",
    "   int i; \n",
    "   double d = 3.99999;\n",
    "   i = d; // ok entre -2147483648 et 2147483647\n",
    "   printf(\"%d\",i);\n",
    "}"
   ]
  },
  {
   "cell_type": "markdown",
   "metadata": {},
   "source": [
    "Si on affect un nombre plus grand que les limites du type, on se retrouve avec une sitation de dépassement :"
   ]
  },
  {
   "cell_type": "code",
   "execution_count": 39,
   "metadata": {
    "slideshow": {
     "slide_type": "slide"
    }
   },
   "outputs": [
    {
     "name": "stdout",
     "output_type": "stream",
     "text": [
      "-2147483648\n"
     ]
    }
   ],
   "source": [
    "%%c\n",
    "#include <stdio.h>\n",
    "int main() {\n",
    "   int i; \n",
    "   double d = 121474836480;\n",
    "   i = d; // ok entre -2147483648 et 2147483647\n",
    "   printf(\"%d\",i);\n",
    "}"
   ]
  },
  {
   "cell_type": "markdown",
   "metadata": {
    "slideshow": {
     "slide_type": "slide"
    }
   },
   "source": [
    "Conversion correcte s'il n'y a pas de perte d'information:\n",
    "- char -> int : 1 octet tient dans 4 octets\n",
    "- int -> double : 4 octets = 31 bits (+signe) tiennent dans les 52 bit de la mantisse \n",
    "\n",
    "__Attention aux autres cas: le résultat peut être complètement faux!__"
   ]
  },
  {
   "cell_type": "markdown",
   "metadata": {
    "slideshow": {
     "slide_type": "slide"
    }
   },
   "source": [
    "### Exemple de conversion char-int \n",
    "\n",
    "`printf(\"%d\",i)` : `%d` s'applique à un entier de type `int`.\n",
    "\n",
    "Si on l'appelle avec un `char`, celui est automatiquement converti en `int`."
   ]
  },
  {
   "cell_type": "code",
   "execution_count": 11,
   "metadata": {
    "slideshow": {
     "slide_type": "fragment"
    }
   },
   "outputs": [
    {
     "name": "stdout",
     "output_type": "stream",
     "text": [
      "127\n"
     ]
    }
   ],
   "source": [
    "%%c\n",
    "#include <stdio.h>\n",
    "int main() {\n",
    "    char c = 127;\n",
    "    printf(\"%d\",c);\n",
    "}"
   ]
  },
  {
   "cell_type": "markdown",
   "metadata": {
    "slideshow": {
     "slide_type": "slide"
    }
   },
   "source": [
    "### Exemple de conversion float-double \n",
    "\n",
    "`printf(\"%f\",d)` : `%f` s'applique à un flottant de type `double`.\n",
    "\n",
    "Si on l'appelle avec un `float`, celui est automatiquement converti en `double`."
   ]
  },
  {
   "cell_type": "code",
   "execution_count": 12,
   "metadata": {
    "slideshow": {
     "slide_type": "fragment"
    }
   },
   "outputs": [
    {
     "name": "stdout",
     "output_type": "stream",
     "text": [
      "1.230000\n"
     ]
    }
   ],
   "source": [
    "%%c\n",
    "#include <stdio.h>\n",
    "int main() {\n",
    "    float f = 1.23;\n",
    "    printf(\"%f\",f);\n",
    "}"
   ]
  },
  {
   "cell_type": "markdown",
   "metadata": {
    "slideshow": {
     "slide_type": "slide"
    }
   },
   "source": [
    "### Exemple de conversion double-int"
   ]
  },
  {
   "cell_type": "code",
   "execution_count": 13,
   "metadata": {
    "slideshow": {
     "slide_type": "fragment"
    }
   },
   "outputs": [
    {
     "name": "stdout",
     "output_type": "stream",
     "text": [
      "2\n"
     ]
    }
   ],
   "source": [
    "%%c\n",
    "#include <stdio.h>\n",
    "void afficher(int x) {\n",
    "    printf(\"%d\",x);\n",
    "}\n",
    "int main() {\n",
    "    double f = 2.34;\n",
    "    afficher(f);\n",
    "}"
   ]
  },
  {
   "cell_type": "markdown",
   "metadata": {
    "slideshow": {
     "slide_type": "slide"
    }
   },
   "source": [
    "### Exemples de conversion incorrecte"
   ]
  },
  {
   "cell_type": "code",
   "execution_count": 14,
   "metadata": {
    "slideshow": {
     "slide_type": "fragment"
    }
   },
   "outputs": [
    {
     "name": "stdout",
     "output_type": "stream",
     "text": [
      "-1234 -> 46\n"
     ]
    }
   ],
   "source": [
    "%%c\n",
    "#include <stdio.h>\n",
    "int main() {\n",
    "    int i = -1234;\n",
    "    char c = i;\n",
    "    printf(\"%d -> %d\",i,c);\n",
    "}"
   ]
  },
  {
   "cell_type": "code",
   "execution_count": 15,
   "metadata": {
    "slideshow": {
     "slide_type": "slide"
    }
   },
   "outputs": [
    {
     "name": "stdout",
     "output_type": "stream",
     "text": [
      "1e+10 -> -2147483648\n"
     ]
    }
   ],
   "source": [
    "%%c\n",
    "#include <stdio.h>\n",
    "int main() {\n",
    "    double z = 1e10;\n",
    "    int i = z;\n",
    "    printf(\"%g -> %d\",z,i);\n",
    "}"
   ]
  },
  {
   "cell_type": "markdown",
   "metadata": {
    "slideshow": {
     "slide_type": "slide"
    }
   },
   "source": [
    "# Operateurs de base (suite)\n"
   ]
  },
  {
   "cell_type": "markdown",
   "metadata": {
    "slideshow": {
     "slide_type": "slide"
    }
   },
   "source": [
    "## Exponentiation\n",
    "- __attention__: `x ^ y` = opération logique \"ou exclusif\"!"
   ]
  },
  {
   "cell_type": "code",
   "execution_count": 41,
   "metadata": {
    "slideshow": {
     "slide_type": "fragment"
    }
   },
   "outputs": [
    {
     "name": "stdout",
     "output_type": "stream",
     "text": [
      "/tmp/tmp5wgt0uaj/b9d90792-820e-473d-8106-b86dc00b5e0e.c: In function ‘main’:\n",
      "/tmp/tmp5wgt0uaj/b9d90792-820e-473d-8106-b86dc00b5e0e.c:5:19: error: invalid operands to binary ^ (have ‘double’ and ‘double’)\n",
      "    printf(\"%f\", x ^ y);\n",
      "                   ^\n",
      "compilation terminated due to -Wfatal-errors.\n",
      "\n"
     ]
    }
   ],
   "source": [
    "%%c\n",
    "#include <stdio.h>\n",
    "int main() {\n",
    "   double x = 2;\n",
    "   double y = 3;\n",
    "   printf(\"%f\", x ^ y);\n",
    "}"
   ]
  },
  {
   "cell_type": "markdown",
   "metadata": {
    "slideshow": {
     "slide_type": "slide"
    }
   },
   "source": [
    "- utiliser `pow` de math.h\n",
    "\n",
    "```\n",
    "#include <stdio.h>\n",
    "#include <math.h>     // pour pow\n",
    "int main() {\n",
    "   double x = 2;\n",
    "   double y = 3;\n",
    "   printf(\"%f\", pow(x,y) );\n",
    "}\n",
    "```"
   ]
  },
  {
   "cell_type": "markdown",
   "metadata": {
    "slideshow": {
     "slide_type": "slide"
    }
   },
   "source": [
    "```gcc test3.c```\n",
    "```\n",
    "/tmp/cceMWz9n.o : Dans la fonction « main » :\n",
    "test3.c:(.text+0x39) : référence indéfinie vers « pow »\n",
    "test3.c:(.text+0x65) : référence indéfinie vers « pow »\n",
    "collect2: error: ld returned 1 exit status\n",
    "```\n",
    "C'est quoi le problème?"
   ]
  },
  {
   "cell_type": "markdown",
   "metadata": {
    "slideshow": {
     "slide_type": "fragment"
    }
   },
   "source": [
    "C'est le __linker__ (ld) qui rale. Les fonctions dans `math.h`sont déjà précompilées dans un fichier `m`.\n",
    "\n",
    "Il faut dire au linker de les retrouver dans `m`:\n",
    "\n",
    "```gcc test3.c  -lm ```\n",
    "\n",
    "**Attention:** L'option `-lm` doit venir *à la fin*, sinon le linker ne la voit pas!"
   ]
  },
  {
   "cell_type": "code",
   "execution_count": 17,
   "metadata": {
    "slideshow": {
     "slide_type": "slide"
    }
   },
   "outputs": [
    {
     "name": "stdout",
     "output_type": "stream",
     "text": [
      "8.000000\n"
     ]
    }
   ],
   "source": [
    "%%c\n",
    "#include <stdio.h>\n",
    "#include <math.h>\n",
    "int main() {\n",
    "   double x = 2;\n",
    "   double y = 3;\n",
    "   printf(\"%f\", pow(x,y));\n",
    "}"
   ]
  },
  {
   "cell_type": "markdown",
   "metadata": {},
   "source": [
    "# Débogage avec printf\n",
    "\n",
    "Pour chercher des bugs il y a deux techniques principales :\n",
    "- afficher des informations supplémentaires avec `printf`,\n",
    "- utilser un outil de débogage comme `gdb`.\n",
    "\n",
    "Avec `printf`, on peut facilement attraper les erreurs les plus courantes.\n",
    "\n",
    "**Attention:** L'affichage n'a lieu qu'après un retour à la ligne. **Toujours ajouter `\\n` si `printf` est pour déboger.**\n",
    "\n",
    "\n",
    "Voici quelques exemples."
   ]
  },
  {
   "cell_type": "markdown",
   "metadata": {},
   "source": [
    "## Une fonction ne donne pas la valeur attendue\n"
   ]
  },
  {
   "cell_type": "markdown",
   "metadata": {},
   "source": [
    "Afficher les **entrées** et les **sorties** de la fonction!\n",
    "\n",
    "Voici un bug:"
   ]
  },
  {
   "cell_type": "code",
   "execution_count": 18,
   "metadata": {
    "scrolled": false
   },
   "outputs": [
    {
     "name": "stdout",
     "output_type": "stream",
     "text": [
      "0\n",
      "\n"
     ]
    }
   ],
   "source": [
    "%%c\n",
    "#include <stdio.h>\n",
    "double div(int x, int y) {\n",
    "    double z = x/y;\n",
    "    return z;\n",
    "}\n",
    "int main() {\n",
    "    double a = div(1,3);\n",
    "    printf(\"%g\\n\",a);       // on veut 0.3333 mais ça donne 0\n",
    "}"
   ]
  },
  {
   "cell_type": "markdown",
   "metadata": {},
   "source": [
    "On ajoute des printf pour afficher entrées et sorties:"
   ]
  },
  {
   "cell_type": "code",
   "execution_count": 19,
   "metadata": {
    "scrolled": true
   },
   "outputs": [
    {
     "name": "stdout",
     "output_type": "stream",
     "text": [
      "6.94793e-310,6.95309e-31000\n",
      "\n"
     ]
    }
   ],
   "source": [
    "%%c\n",
    "#include <stdio.h>\n",
    "double div(int x, int y) {\n",
    "    printf(\"%g,%g\",x,y);\n",
    "    double z = x/y;\n",
    "    printf(\"%g\",z);\n",
    "    return z;\n",
    "}\n",
    "int main() {\n",
    "    double a = div(1,3);\n",
    "    printf(\"%g\\n\",a);       // on veut 0.3333 mais ça donne 0\n",
    "}"
   ]
  },
  {
   "cell_type": "markdown",
   "metadata": {},
   "source": [
    "Ici, l'avertissement du compilateur nous pointe vers la source du problème : `x`et `y`devraient être déclarés comme `int`!"
   ]
  },
  {
   "cell_type": "markdown",
   "metadata": {},
   "source": [
    "## Boucle `while` n'arrête pas comme prévu\n",
    "\n",
    "Afficher tout les parties de la condition de `while`.\n",
    "S'il y a un compteur de boucle, l'afficher également.\n",
    "\n",
    "Le programme suivant ne calcule pas le bon résultat:"
   ]
  },
  {
   "cell_type": "code",
   "execution_count": 20,
   "metadata": {},
   "outputs": [
    {
     "name": "stdout",
     "output_type": "stream",
     "text": [
      "2 \n"
     ]
    }
   ],
   "source": [
    "%%c\n",
    "#include <stdio.h>\n",
    "int main() {\n",
    "    int iter = 0;\n",
    "    int iter_max = 10;\n",
    "    double x = 2;\n",
    "    while (x*x<4 && iter < iter_max) {\n",
    "        x = -0.5*x - 1;\n",
    "        iter = iter + 1;\n",
    "    }\n",
    "    printf(\"%g \",x);\n",
    "}"
   ]
  },
  {
   "cell_type": "markdown",
   "metadata": {},
   "source": [
    "On ajoute un printf **avant** et **à la fin** de la boucle `while` pour afficher les valeurs des variables et les résultats des tests:"
   ]
  },
  {
   "cell_type": "code",
   "execution_count": 21,
   "metadata": {},
   "outputs": [
    {
     "name": "stdout",
     "output_type": "stream",
     "text": [
      "x*x: 4, test1: 0, iter: 0, test2: 1\n",
      "2 \n"
     ]
    }
   ],
   "source": [
    "%%c\n",
    "#include <stdio.h>\n",
    "int main() {\n",
    "    int iter = 0;\n",
    "    int iter_max = 10;\n",
    "    double x = 2;\n",
    "    printf(\"x*x: %g, test1: %d, \",x*x,x*x<4);\n",
    "    printf(\"iter: %d, test2: %d\\n\",iter,iter<iter_max);\n",
    "    while (x*x<4 && iter < iter_max) {\n",
    "        x = -0.5*x - 1;\n",
    "        iter = iter + 1;\n",
    "        printf(\"x*x: %g, test1: %d, \",x*x,x*x<4);\n",
    "        printf(\"iter: %d, test2: %d\\n\",iter,iter<iter_max);\n",
    "    }\n",
    "    printf(\"%g \",x);\n",
    "}"
   ]
  },
  {
   "cell_type": "markdown",
   "metadata": {},
   "source": [
    "Grace au printf on se rend compte qu'on n'entre jamais dans la boucle car le test `x*x<4` échoue. La solution était d'utiliser `x*x<=4`."
   ]
  },
  {
   "cell_type": "code",
   "execution_count": 22,
   "metadata": {},
   "outputs": [
    {
     "name": "stdout",
     "output_type": "stream",
     "text": [
      "x*x: 4, test1: 0, iter: 0, test2: 1\n",
      "x*x: 4, test1: 0, iter: 1, test2: 1\n",
      "x*x: 0, test1: 1, iter: 2, test2: 1\n",
      "x*x: 1, test1: 1, iter: 3, test2: 1\n",
      "x*x: 0.25, test1: 1, iter: 4, test2: 1\n",
      "x*x: 0.5625, test1: 1, iter: 5, test2: 1\n",
      "x*x: 0.390625, test1: 1, iter: 6, test2: 1\n",
      "x*x: 0.472656, test1: 1, iter: 7, test2: 1\n",
      "x*x: 0.430664, test1: 1, iter: 8, test2: 1\n",
      "x*x: 0.451416, test1: 1, iter: 9, test2: 1\n",
      "x*x: 0.440979, test1: 1, iter: 10, test2: 0\n",
      "-0.664062 \n"
     ]
    }
   ],
   "source": [
    "%%c\n",
    "#include <stdio.h>\n",
    "int main() {\n",
    "    int iter = 0;\n",
    "    int iter_max = 10;\n",
    "    double x = 2;\n",
    "    printf(\"x*x: %g, test1: %d, \",x*x,x*x<4);\n",
    "    printf(\"iter: %d, test2: %d\\n\",iter,iter<iter_max);\n",
    "    while (x*x<=4 && iter < iter_max) {\n",
    "        x = -0.5*x - 1;\n",
    "        iter = iter + 1;\n",
    "        printf(\"x*x: %g, test1: %d, \",x*x,x*x<4);\n",
    "        printf(\"iter: %d, test2: %d\\n\",iter,iter<iter_max);\n",
    "    }\n",
    "    printf(\"%g \",x);\n",
    "}"
   ]
  },
  {
   "cell_type": "markdown",
   "metadata": {},
   "source": [
    "## Le programme s'arrête subitement\n",
    "\n",
    "Parfois le programme se plante subitement. Voici quelques causes potentielles :\n",
    "- division par zero: `x/y` avec `y=0` \n",
    "- dépassement d'un tableau `T[i]` avec `i` plus grand que la taille de `T` le permet\n",
    "- utilisation d'un mauvais pointeur: `*p`où `p` ne pointe pas vers la bonne adresse\n",
    "- appel de `free(p)` sur un mauvais pointeur (oublié `p=malloc(...)` ou déjà fait `free` avant)"
   ]
  },
  {
   "cell_type": "markdown",
   "metadata": {},
   "source": [
    "On peut localiser l'instruction responsable pour l'erreur en l'imbriquant entre deux `printf` (principe de bisection).\n",
    "Ajouter des `printf(\"test A\\n\")` avant et `printf(\"test B\\n\")`  après l'arrêt soupçonné, puis déplacer les deux jusqu'ils imbriquent l'instruction fautive.\n"
   ]
  },
  {
   "cell_type": "code",
   "execution_count": 23,
   "metadata": {},
   "outputs": [
    {
     "name": "stdout",
     "output_type": "stream",
     "text": [
      "\n"
     ]
    }
   ],
   "source": [
    "%%c\n",
    "#include <stdio.h>\n",
    "#include <stdlib.h>\n",
    "int main() {\n",
    "    int i = 0;\n",
    "    int N = 10;\n",
    "    double* T = 0;\n",
    "    //               oublié: T = malloc(sizeof(double)*N);\n",
    "    double x = 2;\n",
    "    while (x*x<=4 && i <= N) {\n",
    "        x = -0.5*x - 1;\n",
    "        T[i] = x;\n",
    "        i = i + 1;\n",
    "    }\n",
    "    printf(\"test A\\n\");         // ----> erreur\n",
    "    printf(\"%g \",T[0]);         // instruction soupçonnée\n",
    "    printf(\"test B\\n\");         // erreur <----\n",
    "    free(T);\n",
    "}"
   ]
  },
  {
   "cell_type": "markdown",
   "metadata": {},
   "source": [
    "... affiche ni `test A` ni `test B` (si lancé dans un terminal; dans un Jupyter Notebook un programme qui se plante n'affiche rien du tout). L'arrêt doit alors être plus tôt que `test A`."
   ]
  },
  {
   "cell_type": "code",
   "execution_count": 24,
   "metadata": {},
   "outputs": [
    {
     "name": "stdout",
     "output_type": "stream",
     "text": [
      "\n"
     ]
    }
   ],
   "source": [
    "%%c\n",
    "#include <stdio.h>\n",
    "#include <stdlib.h>\n",
    "int main() {\n",
    "    int i = 0;\n",
    "    int N = 10;\n",
    "    double* T = 0;\n",
    "    //               oublié: T = malloc(sizeof(double)*N);\n",
    "    double x = 2;\n",
    "    while (x*x<=4 && i <= N) {\n",
    "        printf(\"test A\\n\");         // ----> erreur\n",
    "        x = -0.5*x - 1;\n",
    "        T[i] = x;\n",
    "        i = i + 1;\n",
    "        printf(\"test B\\n\");         // erreur <----\n",
    "    }\n",
    "\n",
    "    printf(\"%g \",T[0]);\n",
    "    free(T);\n",
    "}"
   ]
  },
  {
   "cell_type": "markdown",
   "metadata": {},
   "source": [
    "... affiche `test A` mais pas `test B` (si lancé dans un terminal; dans un Jupyter Notebook un programme qui se plante n'affiche rien du tout). L'arrêt doit alors être plus tard que `test A`."
   ]
  },
  {
   "cell_type": "code",
   "execution_count": 25,
   "metadata": {},
   "outputs": [
    {
     "name": "stdout",
     "output_type": "stream",
     "text": [
      "\n"
     ]
    }
   ],
   "source": [
    "%%c\n",
    "#include <stdio.h>\n",
    "#include <stdlib.h>\n",
    "int main() {\n",
    "    int i = 0;\n",
    "    int N = 10;\n",
    "    double* T = 0;\n",
    "    //               oublié: T = malloc(sizeof(double)*N);\n",
    "    double x = 2;\n",
    "    while (x*x<=4 && i <= N) {\n",
    "        x = -0.5*x - 1;\n",
    "        printf(\"test A\\n\");         // ----> erreur\n",
    "        T[i] = x;\n",
    "        printf(\"test B\\n\");         // erreur <----\n",
    "        i = i + 1;\n",
    "    }\n",
    "\n",
    "    printf(\"%g \",T[0]);\n",
    "    free(T);\n",
    "}"
   ]
  },
  {
   "cell_type": "markdown",
   "metadata": {},
   "source": [
    "... affiche `test A` mais pas `test B` (si lancé dans un terminal; dans un Jupyter Notebook un programme qui se plante n'affiche rien du tout). On encerclé une seule instruction qui doit être responsable de l'arrêt. On se souvient que le tableau `T` n'a jamais été alloué (`malloc` oublié) et on corrige l'erreur..."
   ]
  },
  {
   "cell_type": "markdown",
   "metadata": {},
   "source": [
    "## Plusieurs opérations par ligne\n",
    "**Attention:** Eviter de faire plusieurs opérations dans une seule ligne d'instruction. Cela rend le débogage plus difficile.\n",
    "Au besoin, on sépare les opérations en introduisant des variables supplémentaires, qu'on peut afficher."
   ]
  },
  {
   "cell_type": "markdown",
   "metadata": {},
   "source": [
    "Exemple: Le programme suivant ne donne pas le résultat attendu. Comme la ligne de calcul est longue, ce n'est pas évident de trouver l'erreur."
   ]
  },
  {
   "cell_type": "code",
   "execution_count": 26,
   "metadata": {},
   "outputs": [
    {
     "name": "stdout",
     "output_type": "stream",
     "text": [
      "1.5\n",
      "\n"
     ]
    }
   ],
   "source": [
    "%%c\n",
    "#include <stdio.h>\n",
    "\n",
    "int main() {\n",
    "    int x = 3;\n",
    "    double z = x/9+0.5*x;\n",
    "    printf(\"%g\\n\",z);     // devrait donner 1.8333\n",
    "}"
   ]
  },
  {
   "cell_type": "markdown",
   "metadata": {},
   "source": [
    "En séparant les opérations et affichant les résultats intermédiaires, on trouve rapidement la faute:"
   ]
  },
  {
   "cell_type": "code",
   "execution_count": 27,
   "metadata": {},
   "outputs": [
    {
     "name": "stdout",
     "output_type": "stream",
     "text": [
      "0\n",
      "1.5\n",
      "1.5\n",
      "\n"
     ]
    }
   ],
   "source": [
    "%%c\n",
    "#include <stdio.h>\n",
    "\n",
    "int main() {\n",
    "    int x = 3;\n",
    "    double temp1 = x/9;\n",
    "    printf(\"%g\\n\",temp1);\n",
    "    double temp2 = 0.5*x;\n",
    "    printf(\"%g\\n\",temp2);\n",
    "    double z = temp1+temp2;\n",
    "    printf(\"%g\\n\",z);     // devrait donner 1.8333\n",
    "}"
   ]
  },
  {
   "cell_type": "markdown",
   "metadata": {},
   "source": [
    "L'instruction `x/9` utilise la division entière, ce qui donne la faux résultat."
   ]
  },
  {
   "cell_type": "markdown",
   "metadata": {},
   "source": [
    "## Eviter les bugs\n",
    "\n",
    "Le mieux c'est d'attrapper les bugs le plus tôt possible. Voici quelques astuces :\n",
    "- Compiler avec tous les vérifications : <br>\n",
    "`gcc -Wall -Werror -Wfatal-errors monpgramme.c`\n",
    "- Compiler le plus souvent possible (chaque fois vous avez écrit 2-3 nouvelles lignes).\n",
    "- **Lire les messages d'erreur avec attention, pour bien comprendre la source de l'erreur.**"
   ]
  },
  {
   "cell_type": "markdown",
   "metadata": {},
   "source": [
    "## Stubs\n",
    "\n",
    "Si une partie de votre programme ne marche pas, il faut la désactiver pour pouvoir compiler. De plus, il faut la remplacer par une substitution qui vous permet de continuer à développer le reste du programme:\n",
    "1. Déplacez les instructions fautives vers une fonction et mettez-les en commentaires.\n",
    "2. Donner une valeur de retour \"utile\" qui vous permet de continuer comme si la fonction marchait.\n",
    "\n",
    "Une telle fonction temporaire qui se substitue pour d'autre code s'appelle un **stub** (_bouchon_ en français)."
   ]
  },
  {
   "cell_type": "markdown",
   "metadata": {},
   "source": [
    "Dans l'exemple suivant, l'entrée du nombre ne marche pas:\n",
    "```\n",
    "#include <stdio.h>\n",
    "int main() {\n",
    "    int x;\n",
    "    do {\n",
    "        scanf(\"Donner un nombre: %d\",&x);\n",
    "        printf(\"Le carré de %d est %d.\\n\",x,x*x);\n",
    "    } while (x>0);\n",
    "}\n",
    "```"
   ]
  },
  {
   "cell_type": "markdown",
   "metadata": {},
   "source": [
    "On met l'instruction en commentaires `/*` ... `*/` pour la désactiver, mais du coup le reste du programme ne marche plus parce que `x` n'a pas la bonne valeur:\n",
    "```\n",
    "#include <stdio.h>\n",
    "int main() {\n",
    "    int x;\n",
    "    do {\n",
    "        /* \n",
    "        scanf(\"Donner un nombre: %d\",&x);\n",
    "        */\n",
    "        printf(\"Le carré de %d est %d.\\n\",x,x*x);\n",
    "    } while (x>0);\n",
    "}\n",
    "```"
   ]
  },
  {
   "cell_type": "markdown",
   "metadata": {},
   "source": [
    "Mieux: On déplace les instructions fautives dans une fonction, qui donne une valeur de retour \"utile\" pour pouvoir tester le reste du programme. Ici ont choisit `0` parce que sinon le programme ne s'arrête jamais:"
   ]
  },
  {
   "cell_type": "code",
   "execution_count": 28,
   "metadata": {},
   "outputs": [
    {
     "name": "stdout",
     "output_type": "stream",
     "text": [
      "Le carré de 0 est 0.\n",
      "\n"
     ]
    }
   ],
   "source": [
    "%%c\n",
    "#include <stdio.h>\n",
    "int entree() {\n",
    "    int x;\n",
    "    /* Je ne trouve pas la faute ici:\n",
    "       scanf(\"Donner un nombre: %d\",&x);\n",
    "    */\n",
    "    // pour continuer, je donne une valeur par défaut\n",
    "    x = 0;\n",
    "    return x;\n",
    "}\n",
    "int main() {\n",
    "    int x;\n",
    "    do {\n",
    "        x = entree();\n",
    "        printf(\"Le carré de %d est %d.\\n\",x,x*x);\n",
    "    } while (x>0);\n",
    "}"
   ]
  },
  {
   "cell_type": "markdown",
   "metadata": {},
   "source": [
    "Vous pouvez même ajouter du code pour simuler plusieurs entrées :"
   ]
  },
  {
   "cell_type": "code",
   "execution_count": 29,
   "metadata": {},
   "outputs": [
    {
     "name": "stdout",
     "output_type": "stream",
     "text": [
      "Le carré de 2 est 4.\n",
      "Le carré de 7 est 49.\n",
      "Le carré de 1 est 1.\n",
      "Le carré de 0 est 0.\n",
      "\n"
     ]
    }
   ],
   "source": [
    "%%c\n",
    "#include <stdio.h>\n",
    "\n",
    "/********************************************** \n",
    "   Code pour simuler des entrées parce que \n",
    "   je n'arrive pas à faire marcher scanf.\n",
    "*/\n",
    "int entree_compteur = 0;\n",
    "int entrees_fixes[4] = {2,7,1,0};\n",
    "int entree() {\n",
    "    int x;\n",
    "    /* Je ne trouve pas la faute ici:\n",
    "       scanf(\"Donner un nombre: %d\",&x);\n",
    "    */\n",
    "    // pour continuer, je donne 4 valeurs par défaut\n",
    "    x = entrees_fixes[entree_compteur];\n",
    "    ++entree_compteur;\n",
    "    return x;\n",
    "}\n",
    "/**********************************************/\n",
    "int main() {\n",
    "    int x;\n",
    "    do {\n",
    "        x = entree();\n",
    "        printf(\"Le carré de %d est %d.\\n\",x,x*x);\n",
    "    } while (x>0);\n",
    "}"
   ]
  },
  {
   "cell_type": "markdown",
   "metadata": {},
   "source": [
    "Si plus tard vous trouvez l'erreur, il suffit de corriger la fonction, sans toucher au reste du programme: \n",
    "```\n",
    "%%c\n",
    "#include <stdio.h>\n",
    "int entree() {\n",
    "    int x;\n",
    "    printf(\"Donner un nombre: \");\n",
    "    scanf(\"%d\",&x);\n",
    "    return x;\n",
    "}\n",
    "int main() {\n",
    "    int x;\n",
    "    do {\n",
    "        x = entree();\n",
    "        printf(\"Le carré de %d est %d.\\n\",x,x*x);\n",
    "    } while (x>0);\n",
    "}\n",
    "```"
   ]
  },
  {
   "cell_type": "markdown",
   "metadata": {},
   "source": [
    "La fonction principale d'un **stub** est de servir d'emplacement pour du code qui reste encore à écrire. Ca marche très bien pour structurer son programme au fur et à mesure, surtout si on ajoute des commentaires qui expliquent la fonctionalité qui reste à développer:"
   ]
  },
  {
   "cell_type": "code",
   "execution_count": 30,
   "metadata": {},
   "outputs": [
    {
     "name": "stdout",
     "output_type": "stream",
     "text": [
      "3.1415\n",
      "\n"
     ]
    }
   ],
   "source": [
    "%%c\n",
    "#include <stdio.h>\n",
    "\n",
    "/* STUB: Demander à l'utilisateur de taper un entier */\n",
    "int entree() {\n",
    "   /* à faire */\n",
    "   return 3;\n",
    "}\n",
    "\n",
    "/* STUB: Faire le calcul compliqué */\n",
    "double calcul(int a) {\n",
    "   /* à faire */\n",
    "   return 3.1415;\n",
    "}\n",
    "\n",
    "/* STUB: Afficher le résultat */\n",
    "void affichage(double x) {\n",
    "   /* à faire proprement */\n",
    "   printf(\"%g\\n\",x);\n",
    "   return;\n",
    "}\n",
    "\n",
    "int main() {\n",
    "    // grace aux fonctions, le programme principal\n",
    "    // est simple et lisible:\n",
    "    int a = entree();\n",
    "    double x = calcul(a);\n",
    "    affichage(x);\n",
    "}"
   ]
  },
  {
   "cell_type": "code",
   "execution_count": null,
   "metadata": {},
   "outputs": [],
   "source": [
    "\n"
   ]
  }
 ],
 "metadata": {
  "kernelspec": {
   "display_name": "Python 3",
   "language": "python",
   "name": "python3"
  },
  "language_info": {
   "codemirror_mode": {
    "name": "ipython",
    "version": 3
   },
   "file_extension": ".py",
   "mimetype": "text/x-python",
   "name": "python",
   "nbconvert_exporter": "python",
   "pygments_lexer": "ipython3",
   "version": "3.7.3"
  },
  "rise": {
   "enable_chalkboard": true,
   "theme": "simple",
   "transition": "none"
  },
  "toc": {
   "base_numbering": 1,
   "nav_menu": {},
   "number_sections": true,
   "sideBar": true,
   "skip_h1_title": false,
   "title_cell": "Sommaire",
   "title_sidebar": "Sommaire",
   "toc_cell": true,
   "toc_position": {
    "height": "calc(100% - 180px)",
    "left": "10px",
    "top": "150px",
    "width": "261px"
   },
   "toc_section_display": true,
   "toc_window_display": false
  }
 },
 "nbformat": 4,
 "nbformat_minor": 2
}
