{
 "cells": [
  {
   "cell_type": "markdown",
   "metadata": {
    "slideshow": {
     "slide_type": "slide"
    },
    "toc": true
   },
   "source": [
    "<h1>Sommaire<span class=\"tocSkip\"></span></h1>\n",
    "<div class=\"toc\"><ul class=\"toc-item\"><li><span><a href=\"#C'est-quoi-un-Jupyter-Notebook?\" data-toc-modified-id=\"C'est-quoi-un-Jupyter-Notebook?-1\"><span class=\"toc-item-num\">1&nbsp;&nbsp;</span>C'est quoi un Jupyter Notebook?</a></span><ul class=\"toc-item\"><li><span><a href=\"#Utilisation-d'un-Jupyter-Notebook\" data-toc-modified-id=\"Utilisation-d'un-Jupyter-Notebook-1.1\"><span class=\"toc-item-num\">1.1&nbsp;&nbsp;</span>Utilisation d'un Jupyter Notebook</a></span></li><li><span><a href=\"#Les-touches-de-clavier-en-Jupyter\" data-toc-modified-id=\"Les-touches-de-clavier-en-Jupyter-1.2\"><span class=\"toc-item-num\">1.2&nbsp;&nbsp;</span>Les touches de clavier en Jupyter</a></span></li><li><span><a href=\"#Executer-des-programmes-en-C-avec-Jupyter\" data-toc-modified-id=\"Executer-des-programmes-en-C-avec-Jupyter-1.3\"><span class=\"toc-item-num\">1.3&nbsp;&nbsp;</span>Executer des programmes en C avec Jupyter</a></span></li></ul></li><li><span><a href=\"#Exercice:-copier-coller-et-modifier\" data-toc-modified-id=\"Exercice:-copier-coller-et-modifier-2\"><span class=\"toc-item-num\">2&nbsp;&nbsp;</span>Exercice: copier-coller et modifier</a></span></li><li><span><a href=\"#Astuces\" data-toc-modified-id=\"Astuces-3\"><span class=\"toc-item-num\">3&nbsp;&nbsp;</span>Astuces</a></span><ul class=\"toc-item\"><li><span><a href=\"#Sauvegarder-son-travail\" data-toc-modified-id=\"Sauvegarder-son-travail-3.1\"><span class=\"toc-item-num\">3.1&nbsp;&nbsp;</span>Sauvegarder son travail</a></span></li></ul></li><li><span><a href=\"#Outils-disponibles-pendant-l'examen\" data-toc-modified-id=\"Outils-disponibles-pendant-l'examen-4\"><span class=\"toc-item-num\">4&nbsp;&nbsp;</span>Outils disponibles pendant l'examen</a></span></li></ul></div>"
   ]
  },
  {
   "cell_type": "markdown",
   "metadata": {},
   "source": [
    "# C'est quoi un Jupyter Notebook?"
   ]
  },
  {
   "cell_type": "markdown",
   "metadata": {},
   "source": [
    "Un Jupyter Notebook est un document interactif qui permet de melanger du texte avec du code, des images, des calculs interactifs etc. C'était initialement conçu pour le langage Python. Dans ce cours, nous l'allons utiliser pour le langage C."
   ]
  },
  {
   "cell_type": "markdown",
   "metadata": {},
   "source": [
    "Créés en 2015, les Jupyter Notebooks ont vu un succès énorme dans les sciences et dans le cloud computing, en particulier pour l'intelligence artificielle. Ils sont disponibles grace à des applications gratuites (Jupyter, Nteract, Binder) et sur certains plateformes d'Amazon, de Google et de Microsoft."
   ]
  },
  {
   "cell_type": "markdown",
   "metadata": {},
   "source": [
    "## Utilisation d'un Jupyter Notebook"
   ]
  },
  {
   "cell_type": "markdown",
   "metadata": {},
   "source": [
    "Le notebook est divisé en **cellules** que vous pouvez selectionner soit avec le souris, soit avec les flêches vers le haut et le bas."
   ]
  },
  {
   "cell_type": "markdown",
   "metadata": {},
   "source": [
    "Vous interagissez avec des cellules en deux modes:\n",
    "- **mode commande** pour selectionner et executer des cellules, copier-coller des cellules entières, etc.\n",
    "- **mode édition** pour modifier le contenu d'un cellule."
   ]
  },
  {
   "cell_type": "markdown",
   "metadata": {},
   "source": [
    "Il y deux types de cellule:\n",
    "- cellules de **texte** (Markdown),\n",
    "- cellules de **code**."
   ]
  },
  {
   "cell_type": "markdown",
   "metadata": {},
   "source": [
    "Pour **modifier** une cellule, tapez la touche `Entrée`. Vous passez alors en mode **édition**. Si la cellule pour un texte, vous allez voir le texte dans un format brut appelé **Markdown**. Pour passer en mode commande, tapez `Esc`."
   ]
  },
  {
   "cell_type": "markdown",
   "metadata": {},
   "source": [
    "Pour **executer** une cellule, tapez `Shift-Entrée`, ou utilisez le bouton \"Run\" dans la barre d'outils en haut de la fenêtre. Si c'est une cellule texte, elle sera mise en forme."
   ]
  },
  {
   "cell_type": "markdown",
   "metadata": {},
   "source": [
    "Pour copier-coller et d'autres modifications de cellule il faut être en **mode commande**. En cas de doute, tapez simplement `Esc` avant une commande pour être sûr d'être en mode commande. Pour **changer** une cellule texte en cellule code, tapez `Esc-y`. Pour changer une cellule code en texte, tapez **Esc-m**. Vous pouvez aussi utiliser la barre d'outils."
   ]
  },
  {
   "cell_type": "markdown",
   "metadata": {},
   "source": [
    "## Les touches de clavier en Jupyter"
   ]
  },
  {
   "cell_type": "markdown",
   "metadata": {},
   "source": [
    "Pour utiliser Jupyter de façon agréable, il faut se souvenir de quelques touches :\n",
    "- `Entrée` modifier une cellule\n",
    "- `Shift-Entrée` executer une cellule\n",
    "- `Esc-m` changer cellule vers texte\n",
    "- `Esc-y` changer cellule vers code\n",
    "- `a` ajouter une cellule au dessus (above)\n",
    "- `b` ajouter une cellule en dessous (below)\n",
    "- `c` copier une cellule\n",
    "- `x` couper une cellule\n",
    "- `v` coller une cellule en dessous\n",
    "- `d-d` effacer une cellule (`d` deux fois) "
   ]
  },
  {
   "cell_type": "markdown",
   "metadata": {},
   "source": [
    "## Executer des programmes en C avec Jupyter"
   ]
  },
  {
   "cell_type": "markdown",
   "metadata": {},
   "source": [
    "Par défaut, une cellule \"code\" est executé avec Python. Pour pouvoir executer des programmes C, nous allons installer un plugin. Ce plugin sera à installer avant chaque utilisation."
   ]
  },
  {
   "cell_type": "markdown",
   "metadata": {},
   "source": [
    "**Attention:** Pour activer le langage C, executer le code suivant avec `Shift-Entrée` où avec le bouton \"Run\"."
   ]
  },
  {
   "cell_type": "code",
   "execution_count": null,
   "metadata": {
    "scrolled": true
   },
   "outputs": [],
   "source": [
    "!pip install git+https://github.com/frehseg/gcc4jupyter\n",
    "%load_ext gcc_plugin"
   ]
  },
  {
   "cell_type": "markdown",
   "metadata": {},
   "source": [
    "Pour tester si le plugin C marche, executez la cellule suivante. Si vous voyez le texte \"Ca marche.\" apparaître en bas de la cellule, tout va bien."
   ]
  },
  {
   "cell_type": "code",
   "execution_count": null,
   "metadata": {},
   "outputs": [],
   "source": [
    "%%c\n",
    "#include <stdio.h>\n",
    "int main () {\n",
    "   printf(\"Ca marche.\\n\");\n",
    "}"
   ]
  },
  {
   "cell_type": "markdown",
   "metadata": {},
   "source": [
    "# Exercice: copier-coller et modifier\n",
    "1. Selectionnez la cellule de code ci-dessus (celui qui affiche \"Ca marche.\") et tapez `Esc-c`pour le copier. \n",
    "2. Ensuite, selectionnez la cellule ci-dessous et tapez `Esc-v` pour y coller une copie. \n",
    "3. Tapez `Entrée` pour modifier la cellule. Changez le texte \"Ca marche.\" en \"C'est une copie.\". \n",
    "4. Tapez `Shift-Entrée` pour executer ce nouveau programme.\n",
    "5. Vérifiez que c'est bien affiché  \"C'est une copie.\" en dessous du programme."
   ]
  },
  {
   "cell_type": "markdown",
   "metadata": {},
   "source": [
    "# Astuces\n",
    "- Activez l'affichage de numéros de ligne (dans le menu ou avec `Esc-l`).\n",
    "- Si vous voulez garder vos programmes, copiez-collez-les vers un éditeur de texte pour ensuite les sauvegarder."
   ]
  },
  {
   "cell_type": "markdown",
   "metadata": {},
   "source": [
    "## Sauvegarder son travail\n",
    "\n",
    "Si vous utilisez le notebook sous Binder (l'adresse commence avec hub.gke.mybinder.org), vous ne pouvez pas sauvegarder directement vos changements.\n",
    "Il vous faut télécharger votre notebook en utilisant le menu _Fichier->Télécharger au format->Notebook (.ipynb)_.\n",
    "Ensuite, vous pouvez l'ouvrir avec Google Colab (si vous avez un compte Google) ou avec une application comme `nteract`ou ."
   ]
  },
  {
   "cell_type": "markdown",
   "metadata": {},
   "source": [
    "Pour ce cours, il suffira de copier-coller vos petits programmes vers un éditeur de texte pour les ensuite sauvegarder."
   ]
  },
  {
   "cell_type": "markdown",
   "metadata": {},
   "source": [
    "# Outils disponibles pendant l'examen\n",
    "\n",
    "Pendant un examen en présentiel vous n'avez pas accès à internet et vous êtes potentiellement sur une machine de l'ENSTA. En conséquence, **vous n'avez pas accès **:\n",
    "- aux Jupyter Notebook,\n",
    "- à d'autres outils sur internet (repl.it, openclassrooms.com, etc.),\n",
    "- au compilateur de votre choix (VS Studio, XCode, etc.).\n",
    "\n",
    "En revanche, vous avez accès aux outils suivants, d'où l'intérêt de **bien savoir utiliser** :\n",
    "- un éditeur de texte (Gedit où Sublime),\n",
    "- le compilateur gcc,\n",
    "- le terminal pour lancer la compilation et exectuer vos programmes.\n"
   ]
  },
  {
   "cell_type": "code",
   "execution_count": null,
   "metadata": {},
   "outputs": [],
   "source": []
  }
 ],
 "metadata": {
  "celltoolbar": "Raw Cell Format",
  "kernelspec": {
   "display_name": "Python 3.6.9 64-bit",
   "language": "python",
   "name": "python3"
  },
  "language_info": {
   "codemirror_mode": {
    "name": "ipython",
    "version": 3
   },
   "file_extension": ".py",
   "mimetype": "text/x-python",
   "name": "python",
   "nbconvert_exporter": "python",
   "pygments_lexer": "ipython3",
   "version": "3.8.10"
  },
  "rise": {
   "enable_chalkboard": true,
   "theme": "simple",
   "transition": "none"
  },
  "toc": {
   "base_numbering": 1,
   "nav_menu": {},
   "number_sections": true,
   "sideBar": true,
   "skip_h1_title": false,
   "title_cell": "Sommaire",
   "title_sidebar": "Sommaire",
   "toc_cell": true,
   "toc_position": {
    "height": "calc(100% - 180px)",
    "left": "10px",
    "top": "150px",
    "width": "261px"
   },
   "toc_section_display": true,
   "toc_window_display": false
  },
  "vscode": {
   "interpreter": {
    "hash": "31f2aee4e71d21fbe5cf8b01ff0e069b9275f58929596ceb00d14d90e3e16cd6"
   }
  }
 },
 "nbformat": 4,
 "nbformat_minor": 2
}
