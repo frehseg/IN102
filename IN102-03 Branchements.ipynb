{
 "cells": [
  {
   "cell_type": "markdown",
   "metadata": {
    "slideshow": {
     "slide_type": "slide"
    },
    "toc": true
   },
   "source": [
    "<h1>Sommaire<span class=\"tocSkip\"></span></h1>\n",
    "<div class=\"toc\"><ul class=\"toc-item\"><li><span><a href=\"#Branchements-et-boucles\" data-toc-modified-id=\"Branchements-et-boucles-1\"><span class=\"toc-item-num\">1&nbsp;&nbsp;</span>Branchements et boucles</a></span><ul class=\"toc-item\"><li><span><a href=\"#Branchement-if-else\" data-toc-modified-id=\"Branchement-if-else-1.1\"><span class=\"toc-item-num\">1.1&nbsp;&nbsp;</span>Branchement if-else</a></span></li><li><span><a href=\"#Boucle-while\" data-toc-modified-id=\"Boucle-while-1.2\"><span class=\"toc-item-num\">1.2&nbsp;&nbsp;</span>Boucle while</a></span></li><li><span><a href=\"#Exercice:-Trouver-la-précision-du-type-double\" data-toc-modified-id=\"Exercice:-Trouver-la-précision-du-type-double-1.3\"><span class=\"toc-item-num\">1.3&nbsp;&nbsp;</span>Exercice: Trouver la précision du type double</a></span></li><li><span><a href=\"#Boucle-for\" data-toc-modified-id=\"Boucle-for-1.4\"><span class=\"toc-item-num\">1.4&nbsp;&nbsp;</span>Boucle for</a></span></li><li><span><a href=\"#Exemple:-Multiples-de-3\" data-toc-modified-id=\"Exemple:-Multiples-de-3-1.5\"><span class=\"toc-item-num\">1.5&nbsp;&nbsp;</span>Exemple: Multiples de 3</a></span></li><li><span><a href=\"#Exemple:-Affichage-d'une-série-avec-virgules\" data-toc-modified-id=\"Exemple:-Affichage-d'une-série-avec-virgules-1.6\"><span class=\"toc-item-num\">1.6&nbsp;&nbsp;</span>Exemple: Affichage d'une série avec virgules</a></span></li><li><span><a href=\"#Boucles-imbriquées\" data-toc-modified-id=\"Boucles-imbriquées-1.7\"><span class=\"toc-item-num\">1.7&nbsp;&nbsp;</span>Boucles imbriquées</a></span></li><li><span><a href=\"#Exercice:-Table-de-Multiplication\" data-toc-modified-id=\"Exercice:-Table-de-Multiplication-1.8\"><span class=\"toc-item-num\">1.8&nbsp;&nbsp;</span>Exercice: Table de Multiplication</a></span></li></ul></li></ul></div>"
   ]
  },
  {
   "cell_type": "markdown",
   "metadata": {},
   "source": [
    "**Attention:** Pour activer le langage C, executer le code suivant avec Shift+Entrée où avec le bouton \"Run\"."
   ]
  },
  {
   "cell_type": "code",
   "execution_count": null,
   "metadata": {
    "scrolled": true
   },
   "outputs": [],
   "source": [
    "!pip install git+git://github.com/frehseg/gcc4jupyter\n",
    "%load_ext gcc_plugin\n",
    "# marche pas sur Google Colab: %load_ext add_cpp_magic\n",
    "%load_ext solution_toggle"
   ]
  },
  {
   "cell_type": "markdown",
   "metadata": {
    "slideshow": {
     "slide_type": "slide"
    }
   },
   "source": [
    "\n",
    "\n",
    "# Branchements et boucles"
   ]
  },
  {
   "cell_type": "markdown",
   "metadata": {
    "slideshow": {
     "slide_type": "slide"
    }
   },
   "source": [
    "## Branchement if-else"
   ]
  },
  {
   "cell_type": "markdown",
   "metadata": {},
   "source": [
    "L’instruction conditionnelle permet effectuer un traitement si une condition est vraie: \n",
    "\n",
    "`if (`expression`) {`\n",
    "\n",
    "    instruction(s) `;` \n",
    "\n",
    "`}`\n",
    "\n",
    "... ou (optionnellement) un autre traitement sinon :\n",
    "\n",
    "`if (`expression`) { `\n",
    "   \n",
    "    instruction1(s) `;` \n",
    "\n",
    "`} else {` \n",
    "\n",
    "    instruction2(s) `;` \n",
    "\n",
    "`}`"
   ]
  },
  {
   "cell_type": "code",
   "execution_count": null,
   "metadata": {
    "slideshow": {
     "slide_type": "fragment"
    }
   },
   "outputs": [],
   "source": [
    "%%c\n",
    "#include <stdio.h>\n",
    "int main() {\n",
    "   int n = -1;\n",
    "   if (n<0) {\n",
    "      return 0;\n",
    "   } else {\n",
    "       // On continue...\n",
    "   }\n",
    "}"
   ]
  },
  {
   "cell_type": "markdown",
   "metadata": {
    "slideshow": {
     "slide_type": "fragment"
    }
   },
   "source": [
    "__Attention__: \n",
    "- parenthèses obligatoires après `if`!\n",
    "- définir un bloc avec `{`et `}` très fortement conseillé !"
   ]
  },
  {
   "cell_type": "markdown",
   "metadata": {
    "slideshow": {
     "slide_type": "slide"
    }
   },
   "source": [
    "## Boucle while\n",
    "\n",
    "L’instruction while permet effectuer une boucle tant qu’une condition est vraie:\n",
    "\n",
    "`while (` expression `) { `\n",
    "\n",
    "    instruction(s) `;` \n",
    "\n",
    "`}`\n",
    "\n"
   ]
  },
  {
   "cell_type": "markdown",
   "metadata": {
    "slideshow": {
     "slide_type": "slide"
    }
   },
   "source": [
    "```\n",
    "while (<test>) {\n",
    "  ... corps de la boucle ...\n",
    "} \n",
    "```\n",
    "`<test>` est executé:\n",
    "- si 0 (faux), on continue après la boucle,\n",
    "- autrement (vrai), on execute le corps de la boucle. "
   ]
  },
  {
   "cell_type": "markdown",
   "metadata": {
    "slideshow": {
     "slide_type": "slide"
    }
   },
   "source": [
    "## Exercice: Trouver la précision du type double"
   ]
  },
  {
   "cell_type": "markdown",
   "metadata": {},
   "source": [
    "La *précision* d'un type de variable est la plus petite valeur qu'on peut toujours distinguer de 0 lors d'une opération. Pour l'addition, on appelera la précision la valeur $x$ tel que $1+x \\neq 1$ mais $1+y = 1$ pour tous les $y<x$. "
   ]
  },
  {
   "cell_type": "markdown",
   "metadata": {},
   "source": [
    "Ecrivez un programme qui définit une variable `x` de type `double` qui vaut d'abord `1.0`. Ensuite, on divise `x` par `2.0` tant que `1.0 + x` est différent de `1.0`.\n",
    "Finalement, on multiplie `x` par `2.0` et affiche sa valeur.\n",
    "\n",
    "Ca donne la structure suivante :\n",
    "```\n",
    "// On déclare x et lui donne la valeur 1.0.\n",
    "while (<si 1.0+x est différent de 1.0>) {\n",
    "  // diviser x par 2.0\n",
    "} \n",
    "// multiplier x par 2.0\n",
    "// afficher x\n",
    "```\n",
    "\n"
   ]
  },
  {
   "cell_type": "code",
   "execution_count": null,
   "metadata": {
    "slideshow": {
     "slide_type": "fragment"
    }
   },
   "outputs": [],
   "source": [
    "%%c\n",
    "#include <stdio.h>\n",
    "int main() {\n",
    " // à vous de jouer...\n",
    "}"
   ]
  },
  {
   "cell_type": "code",
   "execution_count": null,
   "metadata": {},
   "outputs": [],
   "source": [
    "//# @solution\n",
    "#include <stdio.h>\n",
    "int main() {\n",
    "  double x = 1.0;\n",
    "  while (1.0+x != 1.0) {\n",
    "    x = x/2.0;\n",
    "  } \n",
    "  x = x*2.0;\n",
    "  printf(\"précision de double: %g\",x);\n",
    "}"
   ]
  },
  {
   "cell_type": "markdown",
   "metadata": {
    "slideshow": {
     "slide_type": "slide"
    }
   },
   "source": [
    "## Boucle for"
   ]
  },
  {
   "cell_type": "markdown",
   "metadata": {
    "slideshow": {
     "slide_type": "slide"
    }
   },
   "source": [
    "La structure suivante est extrèmement courrante :\n",
    "\n",
    "```\n",
    "int i = 1;\n",
    "while (i<=n) {\n",
    "  ... calcul ...\n",
    "  i = i+1;\n",
    "} \n",
    "```"
   ]
  },
  {
   "cell_type": "markdown",
   "metadata": {
    "slideshow": {
     "slide_type": "slide"
    }
   },
   "source": [
    "plus généralement :\n",
    "\n",
    "```\n",
    "<instruction1>\n",
    "while (<test>) {\n",
    "  ... calcul ...\n",
    "  <instruction2>\n",
    "} \n",
    "```"
   ]
  },
  {
   "cell_type": "markdown",
   "metadata": {
    "slideshow": {
     "slide_type": "fragment"
    }
   },
   "source": [
    "100% équivalent:\n",
    "```\n",
    "for (<instruction1>; <test>; <instruction2>) {\n",
    "  ... calcul ...\n",
    "} \n",
    "```\n",
    "Après chaque `<instruction2>`, `<test>` est executé pour voir si on arrête la boucle."
   ]
  },
  {
   "cell_type": "markdown",
   "metadata": {
    "slideshow": {
     "slide_type": "slide"
    }
   },
   "source": [
    "## Exemple: Multiples de 3\n",
    "\n",
    "Ecrivez un programme pour afficher les multiples de 3 jusqu'à $3n$ pour un nombre `n` donné. "
   ]
  },
  {
   "cell_type": "code",
   "execution_count": null,
   "metadata": {
    "slideshow": {
     "slide_type": "fragment"
    }
   },
   "outputs": [],
   "source": [
    "%%c\n",
    "#include <stdio.h>\n",
    "int main() {\n",
    " // à vous de jouer...\n",
    "}"
   ]
  },
  {
   "cell_type": "code",
   "execution_count": null,
   "metadata": {},
   "outputs": [],
   "source": [
    "//# @solution\n",
    "#include <stdio.h>\n",
    "int main() {\n",
    "    int n = 9;\n",
    "    for (int i = 1; i<=n; ++i) {\n",
    "        printf(\"%d \",3*i);\n",
    "    }\n",
    "}"
   ]
  },
  {
   "cell_type": "markdown",
   "metadata": {},
   "source": [
    "## Exemple: Affichage d'une série avec virgules"
   ]
  },
  {
   "cell_type": "markdown",
   "metadata": {},
   "source": [
    "Affichez les nombres carrés de $1^1$ jusqu'à $n^2$, séparés par des virgules (sans virgule à la fin, ni au début). On supposera $n=10$."
   ]
  },
  {
   "cell_type": "code",
   "execution_count": null,
   "metadata": {
    "slideshow": {
     "slide_type": "fragment"
    }
   },
   "outputs": [],
   "source": [
    "%%c\n",
    "#include <stdio.h>\n",
    "int main() {\n",
    " // à vous de jouer...\n",
    "}"
   ]
  },
  {
   "cell_type": "code",
   "execution_count": null,
   "metadata": {},
   "outputs": [],
   "source": [
    "//# @solution\n",
    "#include <stdio.h>\n",
    "int main(){\n",
    "    int n = 10;\n",
    "    for (int i=1; i<=n; ++i) {\n",
    "        if (i>1) {\n",
    "            printf(\",\");\n",
    "        }\n",
    "        printf(\"%d\",i*i);\n",
    "    }\n",
    "}"
   ]
  },
  {
   "cell_type": "markdown",
   "metadata": {},
   "source": [
    "## Boucles imbriquées\n",
    "Souvent il faut répéter une tâche plusieurs fois, et la tâche est elle-même une répétition d'actions.\n",
    "On fait alors une boucle dans une boucle."
   ]
  },
  {
   "cell_type": "markdown",
   "metadata": {
    "slideshow": {
     "slide_type": "slide"
    }
   },
   "source": [
    "## Exercice: Table de Multiplication\n",
    "\n",
    "Ecrivez un programme pour afficher la table de multiplication jusqu'à `n`x`n` pour un nombre `n` donné. "
   ]
  },
  {
   "cell_type": "markdown",
   "metadata": {
    "slideshow": {
     "slide_type": "slide"
    }
   },
   "source": [
    "On **commence** à écrire un programme en le décrivant **avec des commentaires** :"
   ]
  },
  {
   "cell_type": "code",
   "execution_count": null,
   "metadata": {
    "slideshow": {
     "slide_type": "fragment"
    }
   },
   "outputs": [],
   "source": [
    "%%c\n",
    "#include <stdio.h>\n",
    "int main() {\n",
    "    // Définir le nombre de tours n\n",
    "    // Boucle: parcourir toutes les valeurs de i=1 à i=n\n",
    "        // Boucle: parcourir toutes les valeurs de j=1 à j=n\n",
    "            // afficher i x j = i*j\n",
    "    \n",
    "    // à vous de jouer...\n",
    "}"
   ]
  },
  {
   "cell_type": "markdown",
   "metadata": {
    "raw_mimetype": "text/markdown"
   },
   "source": [
    "<script>\n",
    "    console.log(\"Hello. You'll see this printed in your browser's DevTools / Console. Feel free to delete this line.\");\n",
    "    document.querySelector('head').innerHTML += '<style>.slides { zoom: 1.0 !important; }</style>';\n",
    "</script>"
   ]
  },
  {
   "cell_type": "code",
   "execution_count": null,
   "metadata": {},
   "outputs": [],
   "source": [
    "//# @solution\n",
    "#include <stdio.h>\n",
    "int main() {\n",
    "    // Définir le nombre de tours n\n",
    "    int n = 4;\n",
    "    // Boucle: parcourir toutes les valeurs de i=1 à i=n\n",
    "    for (int i = 1;i<=n;++i) {\n",
    "        // Boucle: parcourir toutes les valeurs de j=1 à j=n\n",
    "        for (int j = 1; j <= n; ++j) {\n",
    "            // afficher i x j = i*j\n",
    "            printf(\"%d x %d = %3d   \",i,j,i*j);\n",
    "        }\n",
    "        printf(\"\\n\");\n",
    "    }\n",
    "}"
   ]
  },
  {
   "cell_type": "code",
   "execution_count": null,
   "metadata": {},
   "outputs": [],
   "source": []
  }
 ],
 "metadata": {
  "celltoolbar": "Raw Cell Format",
  "kernelspec": {
   "display_name": "Python 3",
   "language": "python",
   "name": "python3"
  },
  "language_info": {
   "codemirror_mode": {
    "name": "ipython",
    "version": 3
   },
   "file_extension": ".py",
   "mimetype": "text/x-python",
   "name": "python",
   "nbconvert_exporter": "python",
   "pygments_lexer": "ipython3",
   "version": "3.7.3"
  },
  "rise": {
   "enable_chalkboard": true,
   "theme": "simple",
   "transition": "none"
  },
  "toc": {
   "base_numbering": 1,
   "nav_menu": {},
   "number_sections": true,
   "sideBar": true,
   "skip_h1_title": false,
   "title_cell": "Sommaire",
   "title_sidebar": "Sommaire",
   "toc_cell": true,
   "toc_position": {
    "height": "calc(100% - 180px)",
    "left": "10px",
    "top": "150px",
    "width": "261px"
   },
   "toc_section_display": true,
   "toc_window_display": false
  }
 },
 "nbformat": 4,
 "nbformat_minor": 2
}
