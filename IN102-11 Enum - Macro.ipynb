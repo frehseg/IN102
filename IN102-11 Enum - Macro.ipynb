{
 "cells": [
  {
   "cell_type": "markdown",
   "metadata": {
    "slideshow": {
     "slide_type": "slide"
    },
    "toc": true
   },
   "source": [
    "<h1>Sommaire<span class=\"tocSkip\"></span></h1>\n",
    "<div class=\"toc\"><ul class=\"toc-item\"><li><span><a href=\"#Types-enumérés\" data-toc-modified-id=\"Types-enumérés-1\"><span class=\"toc-item-num\">1&nbsp;&nbsp;</span>Types enumérés</a></span></li><li><span><a href=\"#Constantes-littérales\" data-toc-modified-id=\"Constantes-littérales-2\"><span class=\"toc-item-num\">2&nbsp;&nbsp;</span>Constantes littérales</a></span></li></ul></div>"
   ]
  },
  {
   "cell_type": "code",
   "execution_count": null,
   "metadata": {},
   "outputs": [],
   "source": [
    "!pip install git+git://github.com/frehseg/gcc4jupyter\n",
    "%load_ext gcc_plugin"
   ]
  },
  {
   "cell_type": "markdown",
   "metadata": {},
   "source": [
    "# Types enumérés\n",
    "\n",
    "Les types enumérés représentent des valeurs choisies parmis un (petit) ensemble, par exemple :\n",
    "- nord, est, sud, ouest,\n",
    "- coeur, carreau, trèfle, pique,\n",
    "- admis, refusé, indéterminé.\n",
    "\n",
    "Afin de représenter ces valeurs dans un programme, il faut associer chaque valeur à un nombre. On pourrait choisir des valeurs entières :\n",
    "- nord = 0, est = 1, sud = 2, ouest = 3,\n",
    "- coeur = 0, carreau = 1, trèfle = 2, pique = 3,\n",
    "- admis = 0, refusé = 1, indéterminé = 2.\n",
    "\n",
    "Ensuite on pourrait les traiter comme des entiers dans le programme:\n",
    "\n",
    "```\n",
    "int d = 2; // on commence avec le sud\n",
    "...\n",
    "if (d == 3) { // vers l'ouest \n",
    "   printf(\"Ce n'est pas par là.\");\n",
    "}\n",
    "```\n",
    "\n",
    "En revanche, il est pénible et sujette à erreurs de se souvenir des différentes nombres, surtout dans un grand programme qui est écrit par plusieurs personnes. En C, peut demander au compilateur de faire ce travail pour nous, en **déclarant un type `enum`**:\n",
    "\n",
    "`enum` nom-type `{`nom-valeur1 `,` nom-valeur2 `,`... `};`\n",
    "\n",
    "Par défaut, le compilateur va associer nom-valeur1 avec 0, nom-valeur2 avec 1, etc. Le code devient beaucoup plus lisible et plus facile à modifier :\n",
    "\n",
    "```\n",
    "enum direction { NORD, EST, SUD, OUEST };\n",
    "\n",
    "enum direction d = SUD; // on commence avec le sud\n",
    "...\n",
    "if (d == OUEST) { // vers l'ouest \n",
    "   printf(\"Ce n'est pas par là.\");\n",
    "}\n",
    "```\n",
    "\n",
    "\n"
   ]
  },
  {
   "cell_type": "markdown",
   "metadata": {},
   "source": [
    "Voici un petit exemple:"
   ]
  },
  {
   "cell_type": "code",
   "execution_count": null,
   "metadata": {},
   "outputs": [],
   "source": [
    "%%c\n",
    "#include <stdio.h>\n",
    "\n",
    "enum direction { NORD, EST, SUD, OUEST };\n",
    "\n",
    "int main(void) {\n",
    "  enum direction d = SUD; // on commence avec le sud\n",
    "\n",
    "  if (d == OUEST) { // vers l'ouest \n",
    "    printf(\"Ce n'est pas par là.\\n\");\n",
    "  } else if (d == OUEST) { // vers l'ouest \n",
    "    printf(\"Ce n'est pas par là.\\n\");\n",
    "  } else { \n",
    "    printf(\"Par ici c'est bon.\\n\");\n",
    "  }\n",
    "\n",
    "  printf(\"entier associé à NORD: %d\\n\",NORD);\n",
    "  printf(\"entier associé à EST: %d\\n\",EST);\n",
    "  printf(\"entier associé à SUD: %d\\n\",SUD);\n",
    "  printf(\"entier associé à OUEST: %d\\n\",OUEST);\n",
    "  return 0;\n",
    "}"
   ]
  },
  {
   "cell_type": "markdown",
   "metadata": {},
   "source": [
    "On peut utiliser les types `enum` commes les autres types, par exemple dans un tableau ou dans une fonction:"
   ]
  },
  {
   "cell_type": "code",
   "execution_count": null,
   "metadata": {},
   "outputs": [],
   "source": [
    "%%c\n",
    "#include <stdio.h>\n",
    "\n",
    "enum direction { NORD, EST, SUD, OUEST };\n",
    "\n",
    "enum direction opposee(enum direction d) {\n",
    "  if (d == NORD) { \n",
    "    return SUD;\n",
    "  } else if (d == EST) { \n",
    "    return EST;\n",
    "  } else if (d == SUD) {  \n",
    "    return NORD;\n",
    "  } else { \n",
    "    return OUEST;\n",
    "  }\n",
    "}\n",
    "\n",
    "int main(void) {\n",
    "  enum direction d1 = SUD; // on commence avec le sud\n",
    "\n",
    "  // changer de sens\n",
    "  enum direction d2 = opposee(d1);\n",
    "  printf(\"l'opposée de SUD: %d\\n\",d2);\n",
    "\n",
    "  printf(\"entier associé à NORD: %d\\n\",NORD);\n",
    "  printf(\"entier associé à EST: %d\\n\",EST);\n",
    "  printf(\"entier associé à SUD: %d\\n\",SUD);\n",
    "  printf(\"entier associé à OUEST: %d\\n\",OUEST);\n",
    "  return 0;\n",
    "}"
   ]
  },
  {
   "cell_type": "markdown",
   "metadata": {},
   "source": [
    "Pour afficher un type `enum` de façon plus lisible, on peut les associer avec un tableau de chaînes de caractères : "
   ]
  },
  {
   "cell_type": "code",
   "execution_count": null,
   "metadata": {},
   "outputs": [],
   "source": [
    "%%c\n",
    "#include <stdio.h>\n",
    "\n",
    "enum direction { NORD, EST, SUD, OUEST };\n",
    "\n",
    "char* direction_chaine[] = {\n",
    "  \"Nord\",\n",
    "  \"Est\",\n",
    "  \"Sud\",\n",
    "  \"Ouest\"\n",
    "};\n",
    "\n",
    "enum direction opposee(enum direction d) {\n",
    "  if (d == NORD) { \n",
    "    return SUD;\n",
    "  } else if (d == EST) { \n",
    "    return EST;\n",
    "  } else if (d == SUD) {  \n",
    "    return NORD;\n",
    "  } else { \n",
    "    return OUEST;\n",
    "  }\n",
    "}\n",
    "\n",
    "int main(void) {\n",
    "  enum direction d1 = SUD; // on commence avec le sud\n",
    "  // changer de sens\n",
    "  enum direction d2 = opposee(d1);\n",
    "  printf(\"l'opposée de %s est %s\\n\",\n",
    "       direction_chaine[d1],\n",
    "       direction_chaine[d2]\n",
    "    );\n",
    "\n",
    "  return 0;\n",
    "}"
   ]
  },
  {
   "cell_type": "markdown",
   "metadata": {},
   "source": [
    "# Constantes littérales\n",
    "\n",
    "Si on utilise un nombre constant partout dans le programme, il est préférable de la remplacer par un **macro** qui l'associe à un nom.\n",
    "\n",
    "Un exemple d'un programme qui utilise un paramètre partout qui pour l'instant vaut `10`:"
   ]
  },
  {
   "cell_type": "code",
   "execution_count": null,
   "metadata": {},
   "outputs": [],
   "source": [
    "%%c\n",
    "#include <stdio.h>\n",
    "void ligne() {\n",
    "    for (int i=0;i<10;++i) {\n",
    "        printf(\"*\");\n",
    "    }\n",
    "}\n",
    "int main() {\n",
    "    for (int i=0;i<10;++i) {\n",
    "        ligne();\n",
    "        printf(\"\\n\");\n",
    "    }\n",
    "}"
   ]
  },
  {
   "cell_type": "markdown",
   "metadata": {},
   "source": [
    "Si on veut remplacer 10 par 20, il est facile de faire une erreur. Mieux utiliser une constante globale:"
   ]
  },
  {
   "cell_type": "code",
   "execution_count": null,
   "metadata": {
    "scrolled": false
   },
   "outputs": [],
   "source": [
    "%%c\n",
    "#include <stdio.h>\n",
    "\n",
    "#define DIMENSION 10\n",
    "\n",
    "void ligne() {\n",
    "    for (int i=0;i<DIMENSION;++i) {\n",
    "        printf(\"*\");\n",
    "    }\n",
    "}\n",
    "int main() {\n",
    "    for (int i=0;i<DIMENSION;++i) {\n",
    "        ligne();\n",
    "        printf(\"\\n\");\n",
    "    }\n",
    "}"
   ]
  },
  {
   "cell_type": "markdown",
   "metadata": {},
   "source": [
    "Les macros sont remplacés textuellement avant compilation par le **préprocesseur C**. "
   ]
  },
  {
   "cell_type": "code",
   "execution_count": null,
   "metadata": {},
   "outputs": [],
   "source": []
  }
 ],
 "metadata": {
  "kernelspec": {
   "display_name": "Python 3",
   "language": "python",
   "name": "python3"
  },
  "language_info": {
   "codemirror_mode": {
    "name": "ipython",
    "version": 3
   },
   "file_extension": ".py",
   "mimetype": "text/x-python",
   "name": "python",
   "nbconvert_exporter": "python",
   "pygments_lexer": "ipython3",
   "version": "3.7.3"
  },
  "rise": {
   "enable_chalkboard": true,
   "theme": "simple",
   "transition": "none"
  },
  "toc": {
   "base_numbering": 1,
   "nav_menu": {},
   "number_sections": true,
   "sideBar": true,
   "skip_h1_title": false,
   "title_cell": "Sommaire",
   "title_sidebar": "Sommaire",
   "toc_cell": true,
   "toc_position": {
    "height": "calc(100% - 180px)",
    "left": "10px",
    "top": "150px",
    "width": "261px"
   },
   "toc_section_display": true,
   "toc_window_display": false
  }
 },
 "nbformat": 4,
 "nbformat_minor": 2
}
